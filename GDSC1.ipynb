{
 "cells": [
  {
   "cell_type": "code",
   "execution_count": null,
   "metadata": {},
   "outputs": [],
   "source": [
    "from tdc.multi_pred import DrugRes\n",
    "import pandas as pd\n",
    "import numpy as np"
   ]
  },
  {
   "cell_type": "code",
   "execution_count": null,
   "metadata": {},
   "outputs": [
    {
     "name": "stderr",
     "output_type": "stream",
     "text": [
      "Found local copy...\n",
      "Loading...\n",
      "Done!\n"
     ]
    }
   ],
   "source": [
    "# download of the dataset and conversion to pandas.dataframe\n",
    "data = DrugRes(name = 'GDSC1')\n",
    "dataframe = data.get_data()"
   ]
  },
  {
   "cell_type": "code",
   "execution_count": 18,
   "metadata": {},
   "outputs": [
    {
     "data": {
      "text/html": [
       "<div>\n",
       "<style scoped>\n",
       "    .dataframe tbody tr th:only-of-type {\n",
       "        vertical-align: middle;\n",
       "    }\n",
       "\n",
       "    .dataframe tbody tr th {\n",
       "        vertical-align: top;\n",
       "    }\n",
       "\n",
       "    .dataframe thead th {\n",
       "        text-align: right;\n",
       "    }\n",
       "</style>\n",
       "<table border=\"1\" class=\"dataframe\">\n",
       "  <thead>\n",
       "    <tr style=\"text-align: right;\">\n",
       "      <th></th>\n",
       "      <th>Drug_ID</th>\n",
       "      <th>Drug</th>\n",
       "      <th>Cell Line_ID</th>\n",
       "      <th>Cell Line</th>\n",
       "      <th>Y</th>\n",
       "    </tr>\n",
       "  </thead>\n",
       "  <tbody>\n",
       "    <tr>\n",
       "      <th>0</th>\n",
       "      <td>Erlotinib</td>\n",
       "      <td>COCCOC1=C(C=C2C(=C1)C(=NC=N2)NC3=CC=CC(=C3)C#C...</td>\n",
       "      <td>MC-CAR</td>\n",
       "      <td>[3.23827250519154, 2.98225419469807, 10.235490...</td>\n",
       "      <td>2.395685</td>\n",
       "    </tr>\n",
       "    <tr>\n",
       "      <th>1</th>\n",
       "      <td>Erlotinib</td>\n",
       "      <td>COCCOC1=C(C=C2C(=C1)C(=NC=N2)NC3=CC=CC(=C3)C#C...</td>\n",
       "      <td>ES3</td>\n",
       "      <td>[8.690197905033282, 3.0914731119366, 9.9924871...</td>\n",
       "      <td>3.140923</td>\n",
       "    </tr>\n",
       "    <tr>\n",
       "      <th>2</th>\n",
       "      <td>Erlotinib</td>\n",
       "      <td>COCCOC1=C(C=C2C(=C1)C(=NC=N2)NC3=CC=CC(=C3)C#C...</td>\n",
       "      <td>ES5</td>\n",
       "      <td>[8.233101127037282, 2.82468731112752, 10.01588...</td>\n",
       "      <td>3.968757</td>\n",
       "    </tr>\n",
       "    <tr>\n",
       "      <th>3</th>\n",
       "      <td>Erlotinib</td>\n",
       "      <td>COCCOC1=C(C=C2C(=C1)C(=NC=N2)NC3=CC=CC(=C3)C#C...</td>\n",
       "      <td>ES7</td>\n",
       "      <td>[8.33346622426757, 3.9667571228514302, 9.79399...</td>\n",
       "      <td>2.692768</td>\n",
       "    </tr>\n",
       "    <tr>\n",
       "      <th>4</th>\n",
       "      <td>Erlotinib</td>\n",
       "      <td>COCCOC1=C(C=C2C(=C1)C(=NC=N2)NC3=CC=CC(=C3)C#C...</td>\n",
       "      <td>EW-11</td>\n",
       "      <td>[8.39134072442845, 2.9683601858810698, 10.2606...</td>\n",
       "      <td>2.478678</td>\n",
       "    </tr>\n",
       "    <tr>\n",
       "      <th>...</th>\n",
       "      <td>...</td>\n",
       "      <td>...</td>\n",
       "      <td>...</td>\n",
       "      <td>...</td>\n",
       "      <td>...</td>\n",
       "    </tr>\n",
       "    <tr>\n",
       "      <th>177305</th>\n",
       "      <td>PFI-3</td>\n",
       "      <td>C1[C@@H]2CN([C@H]1CN2C3=CC=CC=N3)/C=C/C(=O)C4=...</td>\n",
       "      <td>SNU-1040</td>\n",
       "      <td>[8.65368534780164, 2.9238748715081, 10.1278774...</td>\n",
       "      <td>5.353963</td>\n",
       "    </tr>\n",
       "    <tr>\n",
       "      <th>177306</th>\n",
       "      <td>PFI-3</td>\n",
       "      <td>C1[C@@H]2CN([C@H]1CN2C3=CC=CC=N3)/C=C/C(=O)C4=...</td>\n",
       "      <td>SNU-407</td>\n",
       "      <td>[8.57966425274312, 2.77877087774424, 9.7680113...</td>\n",
       "      <td>4.820567</td>\n",
       "    </tr>\n",
       "    <tr>\n",
       "      <th>177307</th>\n",
       "      <td>PFI-3</td>\n",
       "      <td>C1[C@@H]2CN([C@H]1CN2C3=CC=CC=N3)/C=C/C(=O)C4=...</td>\n",
       "      <td>SNU-61</td>\n",
       "      <td>[8.077115751588071, 2.78132536810578, 10.03805...</td>\n",
       "      <td>5.785978</td>\n",
       "    </tr>\n",
       "    <tr>\n",
       "      <th>177308</th>\n",
       "      <td>PFI-3</td>\n",
       "      <td>C1[C@@H]2CN([C@H]1CN2C3=CC=CC=N3)/C=C/C(=O)C4=...</td>\n",
       "      <td>SNU-81</td>\n",
       "      <td>[7.7976988637889, 2.6408995410198797, 9.463400...</td>\n",
       "      <td>5.393454</td>\n",
       "    </tr>\n",
       "    <tr>\n",
       "      <th>177309</th>\n",
       "      <td>PFI-3</td>\n",
       "      <td>C1[C@@H]2CN([C@H]1CN2C3=CC=CC=N3)/C=C/C(=O)C4=...</td>\n",
       "      <td>SNU-C5</td>\n",
       "      <td>[7.606903479683809, 3.15731861619302, 10.15314...</td>\n",
       "      <td>5.099131</td>\n",
       "    </tr>\n",
       "  </tbody>\n",
       "</table>\n",
       "<p>177310 rows × 5 columns</p>\n",
       "</div>"
      ],
      "text/plain": [
       "          Drug_ID                                               Drug  \\\n",
       "0       Erlotinib  COCCOC1=C(C=C2C(=C1)C(=NC=N2)NC3=CC=CC(=C3)C#C...   \n",
       "1       Erlotinib  COCCOC1=C(C=C2C(=C1)C(=NC=N2)NC3=CC=CC(=C3)C#C...   \n",
       "2       Erlotinib  COCCOC1=C(C=C2C(=C1)C(=NC=N2)NC3=CC=CC(=C3)C#C...   \n",
       "3       Erlotinib  COCCOC1=C(C=C2C(=C1)C(=NC=N2)NC3=CC=CC(=C3)C#C...   \n",
       "4       Erlotinib  COCCOC1=C(C=C2C(=C1)C(=NC=N2)NC3=CC=CC(=C3)C#C...   \n",
       "...           ...                                                ...   \n",
       "177305      PFI-3  C1[C@@H]2CN([C@H]1CN2C3=CC=CC=N3)/C=C/C(=O)C4=...   \n",
       "177306      PFI-3  C1[C@@H]2CN([C@H]1CN2C3=CC=CC=N3)/C=C/C(=O)C4=...   \n",
       "177307      PFI-3  C1[C@@H]2CN([C@H]1CN2C3=CC=CC=N3)/C=C/C(=O)C4=...   \n",
       "177308      PFI-3  C1[C@@H]2CN([C@H]1CN2C3=CC=CC=N3)/C=C/C(=O)C4=...   \n",
       "177309      PFI-3  C1[C@@H]2CN([C@H]1CN2C3=CC=CC=N3)/C=C/C(=O)C4=...   \n",
       "\n",
       "       Cell Line_ID                                          Cell Line  \\\n",
       "0            MC-CAR  [3.23827250519154, 2.98225419469807, 10.235490...   \n",
       "1               ES3  [8.690197905033282, 3.0914731119366, 9.9924871...   \n",
       "2               ES5  [8.233101127037282, 2.82468731112752, 10.01588...   \n",
       "3               ES7  [8.33346622426757, 3.9667571228514302, 9.79399...   \n",
       "4             EW-11  [8.39134072442845, 2.9683601858810698, 10.2606...   \n",
       "...             ...                                                ...   \n",
       "177305     SNU-1040  [8.65368534780164, 2.9238748715081, 10.1278774...   \n",
       "177306      SNU-407  [8.57966425274312, 2.77877087774424, 9.7680113...   \n",
       "177307       SNU-61  [8.077115751588071, 2.78132536810578, 10.03805...   \n",
       "177308       SNU-81  [7.7976988637889, 2.6408995410198797, 9.463400...   \n",
       "177309       SNU-C5  [7.606903479683809, 3.15731861619302, 10.15314...   \n",
       "\n",
       "               Y  \n",
       "0       2.395685  \n",
       "1       3.140923  \n",
       "2       3.968757  \n",
       "3       2.692768  \n",
       "4       2.478678  \n",
       "...          ...  \n",
       "177305  5.353963  \n",
       "177306  4.820567  \n",
       "177307  5.785978  \n",
       "177308  5.393454  \n",
       "177309  5.099131  \n",
       "\n",
       "[177310 rows x 5 columns]"
      ]
     },
     "execution_count": 18,
     "metadata": {},
     "output_type": "execute_result"
    }
   ],
   "source": [
    "dataframe"
   ]
  },
  {
   "cell_type": "code",
   "execution_count": 14,
   "metadata": {},
   "outputs": [
    {
     "name": "stderr",
     "output_type": "stream",
     "text": [
      "--- Dataset Statistics ---\n",
      "208 unique drugs.\n",
      "958 unique cell lines.\n",
      "177310 drug-cell line pairs.\n",
      "--------------------------\n"
     ]
    }
   ],
   "source": [
    "data.print_stats()"
   ]
  }
 ],
 "metadata": {
  "kernelspec": {
   "display_name": "gsc1",
   "language": "python",
   "name": "python3"
  },
  "language_info": {
   "codemirror_mode": {
    "name": "ipython",
    "version": 3
   },
   "file_extension": ".py",
   "mimetype": "text/x-python",
   "name": "python",
   "nbconvert_exporter": "python",
   "pygments_lexer": "ipython3",
   "version": "3.13.0"
  }
 },
 "nbformat": 4,
 "nbformat_minor": 2
}
