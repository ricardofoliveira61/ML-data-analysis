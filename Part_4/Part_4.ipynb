{
 "cells": [
  {
   "cell_type": "code",
   "execution_count": 2,
   "metadata": {},
   "outputs": [],
   "source": [
    "from tdc.multi_pred import DrugRes\n",
    "import pandas as pd\n",
    "import numpy as np\n",
    "import seaborn as sns\n",
    "import matplotlib.pyplot as plt\n",
    "from rdkit import Chem\n",
    "from rdkit.Chem import rdFingerprintGenerator, Descriptors, AllChem, PandasTools\n",
    "from rdkit.ML.Descriptors import MoleculeDescriptors\n",
    "from sklearn.feature_selection import VarianceThreshold\n",
    "from sklearn.decomposition import PCA\n",
    "from sklearn.manifold import TSNE\n",
    "from sklearn.cluster import KMeans\n",
    "from sklearn.metrics import pairwise_distances\n",
    "from scipy.cluster.hierarchy import linkage, dendrogram\n",
    "from sklearn.preprocessing import StandardScaler\n",
    "import umap\n",
    "from sklearn.preprocessing import OneHotEncoder\n",
    "from sklearn.ensemble import RandomForestRegressor\n",
    "from tensorflow.keras import layers, models"
   ]
  },
  {
   "cell_type": "markdown",
   "metadata": {},
   "source": [
    "## 4. Deep Leaning"
   ]
  },
  {
   "cell_type": "markdown",
   "metadata": {},
   "source": [
    "### Feature selection"
   ]
  },
  {
   "cell_type": "markdown",
   "metadata": {},
   "source": [
    "Follow code performs feature selection based on the variance of columns in the dataset. The first step involves selecting only numeric (float) columns from the dataset using the select_dtypes method. This ensures that the data processed is compatible with the subsequent feature selection techniques, as non-numeric data cannot be directly used. This step is particularly important in bioinformatics or drug discovery, where numerical descriptors such as molecular weights or logP values are common. While this approach ensures compatibility, it may also exclude useful non-numeric columns, such as categorical data, which might require encoding."
   ]
  },
  {
   "cell_type": "code",
   "execution_count": 57,
   "metadata": {},
   "outputs": [],
   "source": [
    "filtered_GDSC = pd.read_csv('filtered_GDSC_dataset.csv')"
   ]
  },
  {
   "cell_type": "code",
   "execution_count": 24,
   "metadata": {},
   "outputs": [
    {
     "data": {
      "text/html": [
       "<div>\n",
       "<style scoped>\n",
       "    .dataframe tbody tr th:only-of-type {\n",
       "        vertical-align: middle;\n",
       "    }\n",
       "\n",
       "    .dataframe tbody tr th {\n",
       "        vertical-align: top;\n",
       "    }\n",
       "\n",
       "    .dataframe thead th {\n",
       "        text-align: right;\n",
       "    }\n",
       "</style>\n",
       "<table border=\"1\" class=\"dataframe\">\n",
       "  <thead>\n",
       "    <tr style=\"text-align: right;\">\n",
       "      <th></th>\n",
       "      <th>MaxAbsEStateIndex</th>\n",
       "      <th>MaxEStateIndex</th>\n",
       "      <th>MinAbsEStateIndex</th>\n",
       "      <th>MinEStateIndex</th>\n",
       "      <th>qed</th>\n",
       "      <th>SPS</th>\n",
       "      <th>MolWt</th>\n",
       "      <th>HeavyAtomMolWt</th>\n",
       "      <th>ExactMolWt</th>\n",
       "      <th>MaxPartialCharge</th>\n",
       "      <th>...</th>\n",
       "      <th>VSA_EState4</th>\n",
       "      <th>VSA_EState5</th>\n",
       "      <th>VSA_EState6</th>\n",
       "      <th>VSA_EState7</th>\n",
       "      <th>VSA_EState8</th>\n",
       "      <th>VSA_EState9</th>\n",
       "      <th>FractionCSP3</th>\n",
       "      <th>MolLogP</th>\n",
       "      <th>MolMR</th>\n",
       "      <th>Y</th>\n",
       "    </tr>\n",
       "  </thead>\n",
       "  <tbody>\n",
       "    <tr>\n",
       "      <th>0</th>\n",
       "      <td>5.857397</td>\n",
       "      <td>5.857397</td>\n",
       "      <td>0.392174</td>\n",
       "      <td>0.392174</td>\n",
       "      <td>0.417884</td>\n",
       "      <td>10.517241</td>\n",
       "      <td>393.443</td>\n",
       "      <td>370.259</td>\n",
       "      <td>393.168856</td>\n",
       "      <td>0.162995</td>\n",
       "      <td>...</td>\n",
       "      <td>2.343161</td>\n",
       "      <td>4.443107</td>\n",
       "      <td>11.258046</td>\n",
       "      <td>6.994191</td>\n",
       "      <td>1.725695</td>\n",
       "      <td>3.250034</td>\n",
       "      <td>0.272727</td>\n",
       "      <td>3.4051</td>\n",
       "      <td>111.9397</td>\n",
       "      <td>3.968757</td>\n",
       "    </tr>\n",
       "    <tr>\n",
       "      <th>1</th>\n",
       "      <td>5.857397</td>\n",
       "      <td>5.857397</td>\n",
       "      <td>0.392174</td>\n",
       "      <td>0.392174</td>\n",
       "      <td>0.417884</td>\n",
       "      <td>10.517241</td>\n",
       "      <td>393.443</td>\n",
       "      <td>370.259</td>\n",
       "      <td>393.168856</td>\n",
       "      <td>0.162995</td>\n",
       "      <td>...</td>\n",
       "      <td>2.343161</td>\n",
       "      <td>4.443107</td>\n",
       "      <td>11.258046</td>\n",
       "      <td>6.994191</td>\n",
       "      <td>1.725695</td>\n",
       "      <td>3.250034</td>\n",
       "      <td>0.272727</td>\n",
       "      <td>3.4051</td>\n",
       "      <td>111.9397</td>\n",
       "      <td>2.692768</td>\n",
       "    </tr>\n",
       "    <tr>\n",
       "      <th>2</th>\n",
       "      <td>5.857397</td>\n",
       "      <td>5.857397</td>\n",
       "      <td>0.392174</td>\n",
       "      <td>0.392174</td>\n",
       "      <td>0.417884</td>\n",
       "      <td>10.517241</td>\n",
       "      <td>393.443</td>\n",
       "      <td>370.259</td>\n",
       "      <td>393.168856</td>\n",
       "      <td>0.162995</td>\n",
       "      <td>...</td>\n",
       "      <td>2.343161</td>\n",
       "      <td>4.443107</td>\n",
       "      <td>11.258046</td>\n",
       "      <td>6.994191</td>\n",
       "      <td>1.725695</td>\n",
       "      <td>3.250034</td>\n",
       "      <td>0.272727</td>\n",
       "      <td>3.4051</td>\n",
       "      <td>111.9397</td>\n",
       "      <td>2.478678</td>\n",
       "    </tr>\n",
       "    <tr>\n",
       "      <th>3</th>\n",
       "      <td>5.857397</td>\n",
       "      <td>5.857397</td>\n",
       "      <td>0.392174</td>\n",
       "      <td>0.392174</td>\n",
       "      <td>0.417884</td>\n",
       "      <td>10.517241</td>\n",
       "      <td>393.443</td>\n",
       "      <td>370.259</td>\n",
       "      <td>393.168856</td>\n",
       "      <td>0.162995</td>\n",
       "      <td>...</td>\n",
       "      <td>2.343161</td>\n",
       "      <td>4.443107</td>\n",
       "      <td>11.258046</td>\n",
       "      <td>6.994191</td>\n",
       "      <td>1.725695</td>\n",
       "      <td>3.250034</td>\n",
       "      <td>0.272727</td>\n",
       "      <td>3.4051</td>\n",
       "      <td>111.9397</td>\n",
       "      <td>2.034050</td>\n",
       "    </tr>\n",
       "    <tr>\n",
       "      <th>4</th>\n",
       "      <td>5.857397</td>\n",
       "      <td>5.857397</td>\n",
       "      <td>0.392174</td>\n",
       "      <td>0.392174</td>\n",
       "      <td>0.417884</td>\n",
       "      <td>10.517241</td>\n",
       "      <td>393.443</td>\n",
       "      <td>370.259</td>\n",
       "      <td>393.168856</td>\n",
       "      <td>0.162995</td>\n",
       "      <td>...</td>\n",
       "      <td>2.343161</td>\n",
       "      <td>4.443107</td>\n",
       "      <td>11.258046</td>\n",
       "      <td>6.994191</td>\n",
       "      <td>1.725695</td>\n",
       "      <td>3.250034</td>\n",
       "      <td>0.272727</td>\n",
       "      <td>3.4051</td>\n",
       "      <td>111.9397</td>\n",
       "      <td>2.966952</td>\n",
       "    </tr>\n",
       "    <tr>\n",
       "      <th>...</th>\n",
       "      <td>...</td>\n",
       "      <td>...</td>\n",
       "      <td>...</td>\n",
       "      <td>...</td>\n",
       "      <td>...</td>\n",
       "      <td>...</td>\n",
       "      <td>...</td>\n",
       "      <td>...</td>\n",
       "      <td>...</td>\n",
       "      <td>...</td>\n",
       "      <td>...</td>\n",
       "      <td>...</td>\n",
       "      <td>...</td>\n",
       "      <td>...</td>\n",
       "      <td>...</td>\n",
       "      <td>...</td>\n",
       "      <td>...</td>\n",
       "      <td>...</td>\n",
       "      <td>...</td>\n",
       "      <td>...</td>\n",
       "      <td>...</td>\n",
       "    </tr>\n",
       "    <tr>\n",
       "      <th>170961</th>\n",
       "      <td>12.220360</td>\n",
       "      <td>12.220360</td>\n",
       "      <td>0.024463</td>\n",
       "      <td>-0.169023</td>\n",
       "      <td>0.692307</td>\n",
       "      <td>22.500000</td>\n",
       "      <td>321.380</td>\n",
       "      <td>302.228</td>\n",
       "      <td>321.147727</td>\n",
       "      <td>0.190493</td>\n",
       "      <td>...</td>\n",
       "      <td>0.340943</td>\n",
       "      <td>0.882212</td>\n",
       "      <td>13.464916</td>\n",
       "      <td>6.339041</td>\n",
       "      <td>1.822014</td>\n",
       "      <td>0.000000</td>\n",
       "      <td>0.263158</td>\n",
       "      <td>2.4467</td>\n",
       "      <td>92.0593</td>\n",
       "      <td>5.353963</td>\n",
       "    </tr>\n",
       "    <tr>\n",
       "      <th>170962</th>\n",
       "      <td>12.220360</td>\n",
       "      <td>12.220360</td>\n",
       "      <td>0.024463</td>\n",
       "      <td>-0.169023</td>\n",
       "      <td>0.692307</td>\n",
       "      <td>22.500000</td>\n",
       "      <td>321.380</td>\n",
       "      <td>302.228</td>\n",
       "      <td>321.147727</td>\n",
       "      <td>0.190493</td>\n",
       "      <td>...</td>\n",
       "      <td>0.340943</td>\n",
       "      <td>0.882212</td>\n",
       "      <td>13.464916</td>\n",
       "      <td>6.339041</td>\n",
       "      <td>1.822014</td>\n",
       "      <td>0.000000</td>\n",
       "      <td>0.263158</td>\n",
       "      <td>2.4467</td>\n",
       "      <td>92.0593</td>\n",
       "      <td>4.820567</td>\n",
       "    </tr>\n",
       "    <tr>\n",
       "      <th>170963</th>\n",
       "      <td>12.220360</td>\n",
       "      <td>12.220360</td>\n",
       "      <td>0.024463</td>\n",
       "      <td>-0.169023</td>\n",
       "      <td>0.692307</td>\n",
       "      <td>22.500000</td>\n",
       "      <td>321.380</td>\n",
       "      <td>302.228</td>\n",
       "      <td>321.147727</td>\n",
       "      <td>0.190493</td>\n",
       "      <td>...</td>\n",
       "      <td>0.340943</td>\n",
       "      <td>0.882212</td>\n",
       "      <td>13.464916</td>\n",
       "      <td>6.339041</td>\n",
       "      <td>1.822014</td>\n",
       "      <td>0.000000</td>\n",
       "      <td>0.263158</td>\n",
       "      <td>2.4467</td>\n",
       "      <td>92.0593</td>\n",
       "      <td>5.785978</td>\n",
       "    </tr>\n",
       "    <tr>\n",
       "      <th>170964</th>\n",
       "      <td>12.220360</td>\n",
       "      <td>12.220360</td>\n",
       "      <td>0.024463</td>\n",
       "      <td>-0.169023</td>\n",
       "      <td>0.692307</td>\n",
       "      <td>22.500000</td>\n",
       "      <td>321.380</td>\n",
       "      <td>302.228</td>\n",
       "      <td>321.147727</td>\n",
       "      <td>0.190493</td>\n",
       "      <td>...</td>\n",
       "      <td>0.340943</td>\n",
       "      <td>0.882212</td>\n",
       "      <td>13.464916</td>\n",
       "      <td>6.339041</td>\n",
       "      <td>1.822014</td>\n",
       "      <td>0.000000</td>\n",
       "      <td>0.263158</td>\n",
       "      <td>2.4467</td>\n",
       "      <td>92.0593</td>\n",
       "      <td>5.393454</td>\n",
       "    </tr>\n",
       "    <tr>\n",
       "      <th>170965</th>\n",
       "      <td>12.220360</td>\n",
       "      <td>12.220360</td>\n",
       "      <td>0.024463</td>\n",
       "      <td>-0.169023</td>\n",
       "      <td>0.692307</td>\n",
       "      <td>22.500000</td>\n",
       "      <td>321.380</td>\n",
       "      <td>302.228</td>\n",
       "      <td>321.147727</td>\n",
       "      <td>0.190493</td>\n",
       "      <td>...</td>\n",
       "      <td>0.340943</td>\n",
       "      <td>0.882212</td>\n",
       "      <td>13.464916</td>\n",
       "      <td>6.339041</td>\n",
       "      <td>1.822014</td>\n",
       "      <td>0.000000</td>\n",
       "      <td>0.263158</td>\n",
       "      <td>2.4467</td>\n",
       "      <td>92.0593</td>\n",
       "      <td>5.099131</td>\n",
       "    </tr>\n",
       "  </tbody>\n",
       "</table>\n",
       "<p>170966 rows × 99 columns</p>\n",
       "</div>"
      ],
      "text/plain": [
       "        MaxAbsEStateIndex  MaxEStateIndex  MinAbsEStateIndex  MinEStateIndex  \\\n",
       "0                5.857397        5.857397           0.392174        0.392174   \n",
       "1                5.857397        5.857397           0.392174        0.392174   \n",
       "2                5.857397        5.857397           0.392174        0.392174   \n",
       "3                5.857397        5.857397           0.392174        0.392174   \n",
       "4                5.857397        5.857397           0.392174        0.392174   \n",
       "...                   ...             ...                ...             ...   \n",
       "170961          12.220360       12.220360           0.024463       -0.169023   \n",
       "170962          12.220360       12.220360           0.024463       -0.169023   \n",
       "170963          12.220360       12.220360           0.024463       -0.169023   \n",
       "170964          12.220360       12.220360           0.024463       -0.169023   \n",
       "170965          12.220360       12.220360           0.024463       -0.169023   \n",
       "\n",
       "             qed        SPS    MolWt  HeavyAtomMolWt  ExactMolWt  \\\n",
       "0       0.417884  10.517241  393.443         370.259  393.168856   \n",
       "1       0.417884  10.517241  393.443         370.259  393.168856   \n",
       "2       0.417884  10.517241  393.443         370.259  393.168856   \n",
       "3       0.417884  10.517241  393.443         370.259  393.168856   \n",
       "4       0.417884  10.517241  393.443         370.259  393.168856   \n",
       "...          ...        ...      ...             ...         ...   \n",
       "170961  0.692307  22.500000  321.380         302.228  321.147727   \n",
       "170962  0.692307  22.500000  321.380         302.228  321.147727   \n",
       "170963  0.692307  22.500000  321.380         302.228  321.147727   \n",
       "170964  0.692307  22.500000  321.380         302.228  321.147727   \n",
       "170965  0.692307  22.500000  321.380         302.228  321.147727   \n",
       "\n",
       "        MaxPartialCharge  ...  VSA_EState4  VSA_EState5  VSA_EState6  \\\n",
       "0               0.162995  ...     2.343161     4.443107    11.258046   \n",
       "1               0.162995  ...     2.343161     4.443107    11.258046   \n",
       "2               0.162995  ...     2.343161     4.443107    11.258046   \n",
       "3               0.162995  ...     2.343161     4.443107    11.258046   \n",
       "4               0.162995  ...     2.343161     4.443107    11.258046   \n",
       "...                  ...  ...          ...          ...          ...   \n",
       "170961          0.190493  ...     0.340943     0.882212    13.464916   \n",
       "170962          0.190493  ...     0.340943     0.882212    13.464916   \n",
       "170963          0.190493  ...     0.340943     0.882212    13.464916   \n",
       "170964          0.190493  ...     0.340943     0.882212    13.464916   \n",
       "170965          0.190493  ...     0.340943     0.882212    13.464916   \n",
       "\n",
       "        VSA_EState7  VSA_EState8  VSA_EState9  FractionCSP3  MolLogP  \\\n",
       "0          6.994191     1.725695     3.250034      0.272727   3.4051   \n",
       "1          6.994191     1.725695     3.250034      0.272727   3.4051   \n",
       "2          6.994191     1.725695     3.250034      0.272727   3.4051   \n",
       "3          6.994191     1.725695     3.250034      0.272727   3.4051   \n",
       "4          6.994191     1.725695     3.250034      0.272727   3.4051   \n",
       "...             ...          ...          ...           ...      ...   \n",
       "170961     6.339041     1.822014     0.000000      0.263158   2.4467   \n",
       "170962     6.339041     1.822014     0.000000      0.263158   2.4467   \n",
       "170963     6.339041     1.822014     0.000000      0.263158   2.4467   \n",
       "170964     6.339041     1.822014     0.000000      0.263158   2.4467   \n",
       "170965     6.339041     1.822014     0.000000      0.263158   2.4467   \n",
       "\n",
       "           MolMR         Y  \n",
       "0       111.9397  3.968757  \n",
       "1       111.9397  2.692768  \n",
       "2       111.9397  2.478678  \n",
       "3       111.9397  2.034050  \n",
       "4       111.9397  2.966952  \n",
       "...          ...       ...  \n",
       "170961   92.0593  5.353963  \n",
       "170962   92.0593  4.820567  \n",
       "170963   92.0593  5.785978  \n",
       "170964   92.0593  5.393454  \n",
       "170965   92.0593  5.099131  \n",
       "\n",
       "[170966 rows x 99 columns]"
      ]
     },
     "execution_count": 24,
     "metadata": {},
     "output_type": "execute_result"
    }
   ],
   "source": [
    "dataset_final=filtered_GDSC.select_dtypes(include=float)\n",
    "dataset_final"
   ]
  },
  {
   "cell_type": "markdown",
   "metadata": {},
   "source": [
    "Next, a variance threshold is applied to the dataset. This process uses a VarianceThreshold object with a set threshold of 0.05 to eliminate features with very low variance. Features with minimal variance are unlikely to provide meaningful distinctions between data points and thus add little value to machine learning models. By filtering out these features, the dimensionality of the dataset is reduced, which in turn speeds up model training and enhances interpretability. However, this approach has a downside—features with low variance but biological significance (such as rare biomarkers) might be inadvertently discarded."
   ]
  },
  {
   "cell_type": "code",
   "execution_count": 25,
   "metadata": {},
   "outputs": [],
   "source": [
    "selector = VarianceThreshold(threshold=0.05)\n",
    "selected_dataset = selector.fit_transform(dataset_final)\n",
    "selected_columns = dataset_final.columns[selector.get_support()]\n",
    "dataset_filtrado = pd.DataFrame(dataset_final, columns=selected_columns)\n",
    "#print(\"Shape do dataset após aplicar o Variance Threshold:\", selected_dataset.shape)\n",
    "#print(\"Colunas selecionadas:\", selected_columns)"
   ]
  },
  {
   "cell_type": "code",
   "execution_count": 26,
   "metadata": {},
   "outputs": [],
   "source": [
    "dataset_filtrado.to_csv('dataset.csv', index=False)"
   ]
  },
  {
   "cell_type": "code",
   "execution_count": 27,
   "metadata": {},
   "outputs": [
    {
     "data": {
      "text/html": [
       "<div>\n",
       "<style scoped>\n",
       "    .dataframe tbody tr th:only-of-type {\n",
       "        vertical-align: middle;\n",
       "    }\n",
       "\n",
       "    .dataframe tbody tr th {\n",
       "        vertical-align: top;\n",
       "    }\n",
       "\n",
       "    .dataframe thead th {\n",
       "        text-align: right;\n",
       "    }\n",
       "</style>\n",
       "<table border=\"1\" class=\"dataframe\">\n",
       "  <thead>\n",
       "    <tr style=\"text-align: right;\">\n",
       "      <th></th>\n",
       "      <th>MaxAbsEStateIndex</th>\n",
       "      <th>MaxEStateIndex</th>\n",
       "      <th>MinEStateIndex</th>\n",
       "      <th>SPS</th>\n",
       "      <th>MolWt</th>\n",
       "      <th>HeavyAtomMolWt</th>\n",
       "      <th>ExactMolWt</th>\n",
       "      <th>FpDensityMorgan2</th>\n",
       "      <th>FpDensityMorgan3</th>\n",
       "      <th>AvgIpc</th>\n",
       "      <th>...</th>\n",
       "      <th>VSA_EState3</th>\n",
       "      <th>VSA_EState4</th>\n",
       "      <th>VSA_EState5</th>\n",
       "      <th>VSA_EState6</th>\n",
       "      <th>VSA_EState7</th>\n",
       "      <th>VSA_EState8</th>\n",
       "      <th>VSA_EState9</th>\n",
       "      <th>MolLogP</th>\n",
       "      <th>MolMR</th>\n",
       "      <th>Y</th>\n",
       "    </tr>\n",
       "  </thead>\n",
       "  <tbody>\n",
       "    <tr>\n",
       "      <th>0</th>\n",
       "      <td>5.857397</td>\n",
       "      <td>5.857397</td>\n",
       "      <td>0.392174</td>\n",
       "      <td>10.517241</td>\n",
       "      <td>393.443</td>\n",
       "      <td>370.259</td>\n",
       "      <td>393.168856</td>\n",
       "      <td>1.655172</td>\n",
       "      <td>2.344828</td>\n",
       "      <td>2.745576</td>\n",
       "      <td>...</td>\n",
       "      <td>4.096557</td>\n",
       "      <td>2.343161</td>\n",
       "      <td>4.443107</td>\n",
       "      <td>11.258046</td>\n",
       "      <td>6.994191</td>\n",
       "      <td>1.725695</td>\n",
       "      <td>3.250034</td>\n",
       "      <td>3.4051</td>\n",
       "      <td>111.9397</td>\n",
       "      <td>3.968757</td>\n",
       "    </tr>\n",
       "    <tr>\n",
       "      <th>1</th>\n",
       "      <td>5.857397</td>\n",
       "      <td>5.857397</td>\n",
       "      <td>0.392174</td>\n",
       "      <td>10.517241</td>\n",
       "      <td>393.443</td>\n",
       "      <td>370.259</td>\n",
       "      <td>393.168856</td>\n",
       "      <td>1.655172</td>\n",
       "      <td>2.344828</td>\n",
       "      <td>2.745576</td>\n",
       "      <td>...</td>\n",
       "      <td>4.096557</td>\n",
       "      <td>2.343161</td>\n",
       "      <td>4.443107</td>\n",
       "      <td>11.258046</td>\n",
       "      <td>6.994191</td>\n",
       "      <td>1.725695</td>\n",
       "      <td>3.250034</td>\n",
       "      <td>3.4051</td>\n",
       "      <td>111.9397</td>\n",
       "      <td>2.692768</td>\n",
       "    </tr>\n",
       "    <tr>\n",
       "      <th>2</th>\n",
       "      <td>5.857397</td>\n",
       "      <td>5.857397</td>\n",
       "      <td>0.392174</td>\n",
       "      <td>10.517241</td>\n",
       "      <td>393.443</td>\n",
       "      <td>370.259</td>\n",
       "      <td>393.168856</td>\n",
       "      <td>1.655172</td>\n",
       "      <td>2.344828</td>\n",
       "      <td>2.745576</td>\n",
       "      <td>...</td>\n",
       "      <td>4.096557</td>\n",
       "      <td>2.343161</td>\n",
       "      <td>4.443107</td>\n",
       "      <td>11.258046</td>\n",
       "      <td>6.994191</td>\n",
       "      <td>1.725695</td>\n",
       "      <td>3.250034</td>\n",
       "      <td>3.4051</td>\n",
       "      <td>111.9397</td>\n",
       "      <td>2.478678</td>\n",
       "    </tr>\n",
       "    <tr>\n",
       "      <th>3</th>\n",
       "      <td>5.857397</td>\n",
       "      <td>5.857397</td>\n",
       "      <td>0.392174</td>\n",
       "      <td>10.517241</td>\n",
       "      <td>393.443</td>\n",
       "      <td>370.259</td>\n",
       "      <td>393.168856</td>\n",
       "      <td>1.655172</td>\n",
       "      <td>2.344828</td>\n",
       "      <td>2.745576</td>\n",
       "      <td>...</td>\n",
       "      <td>4.096557</td>\n",
       "      <td>2.343161</td>\n",
       "      <td>4.443107</td>\n",
       "      <td>11.258046</td>\n",
       "      <td>6.994191</td>\n",
       "      <td>1.725695</td>\n",
       "      <td>3.250034</td>\n",
       "      <td>3.4051</td>\n",
       "      <td>111.9397</td>\n",
       "      <td>2.034050</td>\n",
       "    </tr>\n",
       "    <tr>\n",
       "      <th>4</th>\n",
       "      <td>5.857397</td>\n",
       "      <td>5.857397</td>\n",
       "      <td>0.392174</td>\n",
       "      <td>10.517241</td>\n",
       "      <td>393.443</td>\n",
       "      <td>370.259</td>\n",
       "      <td>393.168856</td>\n",
       "      <td>1.655172</td>\n",
       "      <td>2.344828</td>\n",
       "      <td>2.745576</td>\n",
       "      <td>...</td>\n",
       "      <td>4.096557</td>\n",
       "      <td>2.343161</td>\n",
       "      <td>4.443107</td>\n",
       "      <td>11.258046</td>\n",
       "      <td>6.994191</td>\n",
       "      <td>1.725695</td>\n",
       "      <td>3.250034</td>\n",
       "      <td>3.4051</td>\n",
       "      <td>111.9397</td>\n",
       "      <td>2.966952</td>\n",
       "    </tr>\n",
       "    <tr>\n",
       "      <th>...</th>\n",
       "      <td>...</td>\n",
       "      <td>...</td>\n",
       "      <td>...</td>\n",
       "      <td>...</td>\n",
       "      <td>...</td>\n",
       "      <td>...</td>\n",
       "      <td>...</td>\n",
       "      <td>...</td>\n",
       "      <td>...</td>\n",
       "      <td>...</td>\n",
       "      <td>...</td>\n",
       "      <td>...</td>\n",
       "      <td>...</td>\n",
       "      <td>...</td>\n",
       "      <td>...</td>\n",
       "      <td>...</td>\n",
       "      <td>...</td>\n",
       "      <td>...</td>\n",
       "      <td>...</td>\n",
       "      <td>...</td>\n",
       "      <td>...</td>\n",
       "    </tr>\n",
       "    <tr>\n",
       "      <th>170961</th>\n",
       "      <td>12.220360</td>\n",
       "      <td>12.220360</td>\n",
       "      <td>-0.169023</td>\n",
       "      <td>22.500000</td>\n",
       "      <td>321.380</td>\n",
       "      <td>302.228</td>\n",
       "      <td>321.147727</td>\n",
       "      <td>1.958333</td>\n",
       "      <td>2.666667</td>\n",
       "      <td>3.210046</td>\n",
       "      <td>...</td>\n",
       "      <td>9.756959</td>\n",
       "      <td>0.340943</td>\n",
       "      <td>0.882212</td>\n",
       "      <td>13.464916</td>\n",
       "      <td>6.339041</td>\n",
       "      <td>1.822014</td>\n",
       "      <td>0.000000</td>\n",
       "      <td>2.4467</td>\n",
       "      <td>92.0593</td>\n",
       "      <td>5.353963</td>\n",
       "    </tr>\n",
       "    <tr>\n",
       "      <th>170962</th>\n",
       "      <td>12.220360</td>\n",
       "      <td>12.220360</td>\n",
       "      <td>-0.169023</td>\n",
       "      <td>22.500000</td>\n",
       "      <td>321.380</td>\n",
       "      <td>302.228</td>\n",
       "      <td>321.147727</td>\n",
       "      <td>1.958333</td>\n",
       "      <td>2.666667</td>\n",
       "      <td>3.210046</td>\n",
       "      <td>...</td>\n",
       "      <td>9.756959</td>\n",
       "      <td>0.340943</td>\n",
       "      <td>0.882212</td>\n",
       "      <td>13.464916</td>\n",
       "      <td>6.339041</td>\n",
       "      <td>1.822014</td>\n",
       "      <td>0.000000</td>\n",
       "      <td>2.4467</td>\n",
       "      <td>92.0593</td>\n",
       "      <td>4.820567</td>\n",
       "    </tr>\n",
       "    <tr>\n",
       "      <th>170963</th>\n",
       "      <td>12.220360</td>\n",
       "      <td>12.220360</td>\n",
       "      <td>-0.169023</td>\n",
       "      <td>22.500000</td>\n",
       "      <td>321.380</td>\n",
       "      <td>302.228</td>\n",
       "      <td>321.147727</td>\n",
       "      <td>1.958333</td>\n",
       "      <td>2.666667</td>\n",
       "      <td>3.210046</td>\n",
       "      <td>...</td>\n",
       "      <td>9.756959</td>\n",
       "      <td>0.340943</td>\n",
       "      <td>0.882212</td>\n",
       "      <td>13.464916</td>\n",
       "      <td>6.339041</td>\n",
       "      <td>1.822014</td>\n",
       "      <td>0.000000</td>\n",
       "      <td>2.4467</td>\n",
       "      <td>92.0593</td>\n",
       "      <td>5.785978</td>\n",
       "    </tr>\n",
       "    <tr>\n",
       "      <th>170964</th>\n",
       "      <td>12.220360</td>\n",
       "      <td>12.220360</td>\n",
       "      <td>-0.169023</td>\n",
       "      <td>22.500000</td>\n",
       "      <td>321.380</td>\n",
       "      <td>302.228</td>\n",
       "      <td>321.147727</td>\n",
       "      <td>1.958333</td>\n",
       "      <td>2.666667</td>\n",
       "      <td>3.210046</td>\n",
       "      <td>...</td>\n",
       "      <td>9.756959</td>\n",
       "      <td>0.340943</td>\n",
       "      <td>0.882212</td>\n",
       "      <td>13.464916</td>\n",
       "      <td>6.339041</td>\n",
       "      <td>1.822014</td>\n",
       "      <td>0.000000</td>\n",
       "      <td>2.4467</td>\n",
       "      <td>92.0593</td>\n",
       "      <td>5.393454</td>\n",
       "    </tr>\n",
       "    <tr>\n",
       "      <th>170965</th>\n",
       "      <td>12.220360</td>\n",
       "      <td>12.220360</td>\n",
       "      <td>-0.169023</td>\n",
       "      <td>22.500000</td>\n",
       "      <td>321.380</td>\n",
       "      <td>302.228</td>\n",
       "      <td>321.147727</td>\n",
       "      <td>1.958333</td>\n",
       "      <td>2.666667</td>\n",
       "      <td>3.210046</td>\n",
       "      <td>...</td>\n",
       "      <td>9.756959</td>\n",
       "      <td>0.340943</td>\n",
       "      <td>0.882212</td>\n",
       "      <td>13.464916</td>\n",
       "      <td>6.339041</td>\n",
       "      <td>1.822014</td>\n",
       "      <td>0.000000</td>\n",
       "      <td>2.4467</td>\n",
       "      <td>92.0593</td>\n",
       "      <td>5.099131</td>\n",
       "    </tr>\n",
       "  </tbody>\n",
       "</table>\n",
       "<p>170966 rows × 89 columns</p>\n",
       "</div>"
      ],
      "text/plain": [
       "        MaxAbsEStateIndex  MaxEStateIndex  MinEStateIndex        SPS    MolWt  \\\n",
       "0                5.857397        5.857397        0.392174  10.517241  393.443   \n",
       "1                5.857397        5.857397        0.392174  10.517241  393.443   \n",
       "2                5.857397        5.857397        0.392174  10.517241  393.443   \n",
       "3                5.857397        5.857397        0.392174  10.517241  393.443   \n",
       "4                5.857397        5.857397        0.392174  10.517241  393.443   \n",
       "...                   ...             ...             ...        ...      ...   \n",
       "170961          12.220360       12.220360       -0.169023  22.500000  321.380   \n",
       "170962          12.220360       12.220360       -0.169023  22.500000  321.380   \n",
       "170963          12.220360       12.220360       -0.169023  22.500000  321.380   \n",
       "170964          12.220360       12.220360       -0.169023  22.500000  321.380   \n",
       "170965          12.220360       12.220360       -0.169023  22.500000  321.380   \n",
       "\n",
       "        HeavyAtomMolWt  ExactMolWt  FpDensityMorgan2  FpDensityMorgan3  \\\n",
       "0              370.259  393.168856          1.655172          2.344828   \n",
       "1              370.259  393.168856          1.655172          2.344828   \n",
       "2              370.259  393.168856          1.655172          2.344828   \n",
       "3              370.259  393.168856          1.655172          2.344828   \n",
       "4              370.259  393.168856          1.655172          2.344828   \n",
       "...                ...         ...               ...               ...   \n",
       "170961         302.228  321.147727          1.958333          2.666667   \n",
       "170962         302.228  321.147727          1.958333          2.666667   \n",
       "170963         302.228  321.147727          1.958333          2.666667   \n",
       "170964         302.228  321.147727          1.958333          2.666667   \n",
       "170965         302.228  321.147727          1.958333          2.666667   \n",
       "\n",
       "          AvgIpc  ...  VSA_EState3  VSA_EState4  VSA_EState5  VSA_EState6  \\\n",
       "0       2.745576  ...     4.096557     2.343161     4.443107    11.258046   \n",
       "1       2.745576  ...     4.096557     2.343161     4.443107    11.258046   \n",
       "2       2.745576  ...     4.096557     2.343161     4.443107    11.258046   \n",
       "3       2.745576  ...     4.096557     2.343161     4.443107    11.258046   \n",
       "4       2.745576  ...     4.096557     2.343161     4.443107    11.258046   \n",
       "...          ...  ...          ...          ...          ...          ...   \n",
       "170961  3.210046  ...     9.756959     0.340943     0.882212    13.464916   \n",
       "170962  3.210046  ...     9.756959     0.340943     0.882212    13.464916   \n",
       "170963  3.210046  ...     9.756959     0.340943     0.882212    13.464916   \n",
       "170964  3.210046  ...     9.756959     0.340943     0.882212    13.464916   \n",
       "170965  3.210046  ...     9.756959     0.340943     0.882212    13.464916   \n",
       "\n",
       "        VSA_EState7  VSA_EState8  VSA_EState9  MolLogP     MolMR         Y  \n",
       "0          6.994191     1.725695     3.250034   3.4051  111.9397  3.968757  \n",
       "1          6.994191     1.725695     3.250034   3.4051  111.9397  2.692768  \n",
       "2          6.994191     1.725695     3.250034   3.4051  111.9397  2.478678  \n",
       "3          6.994191     1.725695     3.250034   3.4051  111.9397  2.034050  \n",
       "4          6.994191     1.725695     3.250034   3.4051  111.9397  2.966952  \n",
       "...             ...          ...          ...      ...       ...       ...  \n",
       "170961     6.339041     1.822014     0.000000   2.4467   92.0593  5.353963  \n",
       "170962     6.339041     1.822014     0.000000   2.4467   92.0593  4.820567  \n",
       "170963     6.339041     1.822014     0.000000   2.4467   92.0593  5.785978  \n",
       "170964     6.339041     1.822014     0.000000   2.4467   92.0593  5.393454  \n",
       "170965     6.339041     1.822014     0.000000   2.4467   92.0593  5.099131  \n",
       "\n",
       "[170966 rows x 89 columns]"
      ]
     },
     "execution_count": 27,
     "metadata": {},
     "output_type": "execute_result"
    }
   ],
   "source": [
    "dataset_filtrado"
   ]
  },
  {
   "cell_type": "markdown",
   "metadata": {},
   "source": [
    "As we can see, our dataset has gone from 99 columns to 88"
   ]
  },
  {
   "cell_type": "markdown",
   "metadata": {},
   "source": [
    "### Enconding"
   ]
  },
  {
   "cell_type": "markdown",
   "metadata": {},
   "source": [
    "Now, we need to prepare the dataset for deep learning by encoding specific features, such as the Tissue and Morgan Fingerprints, to ensure compatibility with algorithms that require numerical input. Initially, the Tissue and Morgan Fingerprints columns are extracted from the dataset to isolate the data that requires transformation. The Tissue column represents the biological origin of the cell lines (e.g., lung, blood), which is crucial for understanding the biological context of drug responses. The Morgan Fingerprints, on the other hand, provide numerical representations of molecular structures, encoding essential structural information used to predict drug activity."
   ]
  },
  {
   "cell_type": "code",
   "execution_count": 28,
   "metadata": {},
   "outputs": [],
   "source": [
    "tissue_data = filtered_GDSC['Tissue']\n",
    "morgan_fingerprints = filtered_GDSC['morgan_fingerprints']"
   ]
  },
  {
   "cell_type": "markdown",
   "metadata": {},
   "source": [
    "The Morgan Fingerprints are then expanded into a structured numerical format. Each fingerprint, typically stored as a list or array, is unpacked into individual columns (morgan_0, morgan_1, etc.) to ensure compatibility with deep learning models, which require fixed-size numerical input. While this approach captures detailed molecular information, it also increases the dimensionality of the dataset, which may result in higher computational demands. The expansion of fingerprints is biologically significant as it allows algorithms to analyze drugs based on their structural differences or similarities."
   ]
  },
  {
   "cell_type": "code",
   "execution_count": 29,
   "metadata": {},
   "outputs": [],
   "source": [
    "morgan_encodings = np.vstack(morgan_fingerprints)\n",
    "morgan_columns = [f'morgan_{i}' for i in range(morgan_encodings.shape[1])]\n",
    "morgan_df = pd.DataFrame(morgan_encodings, columns=morgan_columns)"
   ]
  },
  {
   "cell_type": "markdown",
   "metadata": {},
   "source": [
    "The Tissue column undergoes one-hot encoding, transforming the categorical data into binary format. Each unique tissue type is represented as a separate column, with each row containing a 1 for the corresponding tissue type and 0s elsewhere. This step ensures that categorical information is preserved and converted into a numerical format without introducing any ordinal assumptions. While this process increases the number of columns."
   ]
  },
  {
   "cell_type": "code",
   "execution_count": 30,
   "metadata": {},
   "outputs": [],
   "source": [
    "one_hot_encoder = OneHotEncoder(sparse_output=False)\n",
    "tissue_encodings = one_hot_encoder.fit_transform(tissue_data.values.reshape(-1, 1))\n",
    "tissue_columns = [f'tissue_{cat}' for cat in one_hot_encoder.categories_[0]]\n",
    "tissue_df = pd.DataFrame(tissue_encodings, columns=tissue_columns)"
   ]
  },
  {
   "cell_type": "markdown",
   "metadata": {},
   "source": [
    "After processing the Tissue and Morgan Fingerprints data, they are concatenated with the filtered dataset, creating an augmented dataset that integrates molecular and biological features. This comprehensive dataset is ready for model training and ensures that all relevant data is combined into one unified structure. However, the integration increases the overall size of the dataset, which can require more computational resources. The combined dataset allows the model to leverage both the chemical and biological contexts, enhancing its predictive capabilities and making it more robust for complex tasks such as predicting drug efficacy."
   ]
  },
  {
   "cell_type": "code",
   "execution_count": 31,
   "metadata": {},
   "outputs": [],
   "source": [
    "augmented_data = pd.concat([dataset_filtrado, morgan_df, tissue_df], axis=1)"
   ]
  },
  {
   "cell_type": "code",
   "execution_count": 32,
   "metadata": {},
   "outputs": [],
   "source": [
    "output_path = 'augmented_filtered_dataset.csv'\n",
    "augmented_data.to_csv(output_path, index=False)"
   ]
  },
  {
   "cell_type": "markdown",
   "metadata": {},
   "source": [
    "### Dataset Split"
   ]
  },
  {
   "cell_type": "markdown",
   "metadata": {},
   "source": [
    "\n",
    "Now, its necessary splitting the dataset into training and testing sets and normalizing the features to ensure compatibility with the algorithms. First, the target variable (Y), which represents the outcome or label to predict, is separated from the feature set. The target variable is extracted as target_data, while the rest of the dataset is stored as augmented_data. This separation ensures that the deep learning model can be trained with input features and validated against the target labels without introducing leakage. In the context of bioinformatics, the target often represents biological responses, such as drug efficacy, making its isolation critical for meaningful predictions. The dataset is then split into training and testing sets using the train_test_split function. The training set, comprising 80% of the data, is used to train the model, while the remaining 20% is reserved for testing."
   ]
  },
  {
   "cell_type": "code",
   "execution_count": 35,
   "metadata": {},
   "outputs": [
    {
     "name": "stdout",
     "output_type": "stream",
     "text": [
      "Linhas no dataset augmentado (X): 170966, Colunas: 2149\n",
      "Linhas no target_data (Y): 170966\n"
     ]
    }
   ],
   "source": [
    "from sklearn.model_selection import train_test_split\n",
    "\n",
    "target_data = augmented_data['Y'].values  \n",
    "augmented_data = augmented_data.drop(columns=['Y'])  \n",
    "\n",
    "\n",
    "print(f\"Linhas no dataset augmentado (X): {augmented_data.shape[0]}, Colunas: {augmented_data.shape[1]}\")\n",
    "print(f\"Linhas no target_data (Y): {target_data.shape[0]}\")\n",
    "\n",
    "\n",
    "X_train, X_test, y_train, y_test = train_test_split(augmented_data.values, target_data, test_size=0.2, random_state=42)"
   ]
  },
  {
   "cell_type": "markdown",
   "metadata": {},
   "source": [
    "Finally, the features are normalized using the StandardScaler, which standardizes the data by scaling it to have a zero mean and unit variance. The scaler is fitted on the training set and then applied to both the training and testing sets. This ensures that the testing data is scaled consistently with the training data, preventing data leakage. Normalization is essential because many machine learning algorithms are sensitive to the scale of input features, and standardizing them improves model convergence and performance. In biological datasets, where features may include diverse molecular and tissue-related data with varying ranges, normalization ensures that no single feature dominates due to its magnitude, allowing the model to focus on meaningful patterns."
   ]
  },
  {
   "cell_type": "code",
   "execution_count": 36,
   "metadata": {},
   "outputs": [],
   "source": [
    "scaler = StandardScaler()\n",
    "X_train = scaler.fit_transform(X_train) \n",
    "X_test = scaler.transform(X_test)"
   ]
  },
  {
   "cell_type": "markdown",
   "metadata": {},
   "source": [
    "### Model Creation"
   ]
  },
  {
   "cell_type": "markdown",
   "metadata": {},
   "source": [
    "### DNN"
   ]
  },
  {
   "cell_type": "markdown",
   "metadata": {},
   "source": [
    "its time to defines, compiles, and trains a Deep Neural Network (DNN) for predicting outcomes based on the input dataset. The first part defines the DNN architecture using a function called create_dnn. The model is built sequentially and consists of three layers: the first layer is a dense (fully connected) layer with 128 units and ReLU activation, followed by a dropout layer that randomly drops 30% of the connections during training to reduce overfitting. The second layer is another dense layer with 64 units and ReLU activation, also followed by a dropout layer. The final layer is a single-unit dense layer with linear activation, which is suitable for regression tasks where the goal is to predict continuous values. The model is compiled using the Adam optimizer, which adjusts learning rates dynamically to improve convergence, mean squared error (MSE) as the loss function to minimize, and mean absolute error (MAE) as a performance metric for evaluation. This architecture is particularly designed for regression tasks that involve complex, non-linear relationships, making it well-suited for biological applications, such as predicting drug responses or molecular activities. The dropout layers add robustness by preventing the model from overfitting the training data, while the use of ReLU activation ensures computational efficiency and avoids the vanishing gradient problem common in deeper networks"
   ]
  },
  {
   "cell_type": "code",
   "execution_count": 37,
   "metadata": {},
   "outputs": [],
   "source": [
    "from tensorflow.keras.models import Sequential\n",
    "\n",
    "\n",
    "def create_dnn(input_shape):\n",
    "    model = Sequential([\n",
    "        layers.Dense(128, activation='relu', input_shape=input_shape),\n",
    "        layers.Dropout(0.3),\n",
    "        layers.Dense(64, activation='relu'),\n",
    "        layers.Dropout(0.3),\n",
    "        layers.Dense(1, activation='linear')\n",
    "    ])\n",
    "    model.compile(optimizer='adam', loss='mse', metrics=['mae'])\n",
    "    print(\"DNN Summary:\")\n",
    "    print(model.summary())\n",
    "    return model\n",
    "\n"
   ]
  },
  {
   "cell_type": "markdown",
   "metadata": {},
   "source": [
    "The create_dnn function is then used to instantiate the model. The model is trained using the fit method, with 20% of the training data reserved for validation to monitor the model's generalization performance. The training is conducted over 50 epochs (iterations over the dataset) with a batch size of 32, meaning the model updates its weights after every 32 samples. The verbose output allows real-time monitoring of the training and validation performance metrics. This training process adjusts the model's parameters (weights and biases) to minimize the error on the training data while ensuring it generalizes well to unseen data through validation monitoring. The combination of layers, dropout, and the Adam optimizer creates a robust and efficient model capable of learning complex patterns in the dataset. However, the model's performance heavily depends on the choice of hyperparameters, such as the number of layers, dropout rates, and learning rates, which need to be carefully tuned. In the context of biological datasets, this DNN architecture can effectively predict outcomes such as drug sensitivity or therapeutic responses by leveraging molecular and tissue-specific features, capturing the underlying biological variability in the data."
   ]
  },
  {
   "cell_type": "code",
   "execution_count": 38,
   "metadata": {},
   "outputs": [
    {
     "name": "stdout",
     "output_type": "stream",
     "text": [
      "DNN Summary:\n"
     ]
    },
    {
     "data": {
      "text/html": [
       "<pre style=\"white-space:pre;overflow-x:auto;line-height:normal;font-family:Menlo,'DejaVu Sans Mono',consolas,'Courier New',monospace\"><span style=\"font-weight: bold\">Model: \"sequential\"</span>\n",
       "</pre>\n"
      ],
      "text/plain": [
       "\u001b[1mModel: \"sequential\"\u001b[0m\n"
      ]
     },
     "metadata": {},
     "output_type": "display_data"
    },
    {
     "data": {
      "text/html": [
       "<pre style=\"white-space:pre;overflow-x:auto;line-height:normal;font-family:Menlo,'DejaVu Sans Mono',consolas,'Courier New',monospace\">┏━━━━━━━━━━━━━━━━━━━━━━━━━━━━━━━━━┳━━━━━━━━━━━━━━━━━━━━━━━━┳━━━━━━━━━━━━━━━┓\n",
       "┃<span style=\"font-weight: bold\"> Layer (type)                    </span>┃<span style=\"font-weight: bold\"> Output Shape           </span>┃<span style=\"font-weight: bold\">       Param # </span>┃\n",
       "┡━━━━━━━━━━━━━━━━━━━━━━━━━━━━━━━━━╇━━━━━━━━━━━━━━━━━━━━━━━━╇━━━━━━━━━━━━━━━┩\n",
       "│ dense (<span style=\"color: #0087ff; text-decoration-color: #0087ff\">Dense</span>)                   │ (<span style=\"color: #00d7ff; text-decoration-color: #00d7ff\">None</span>, <span style=\"color: #00af00; text-decoration-color: #00af00\">128</span>)            │       <span style=\"color: #00af00; text-decoration-color: #00af00\">275,200</span> │\n",
       "├─────────────────────────────────┼────────────────────────┼───────────────┤\n",
       "│ dropout (<span style=\"color: #0087ff; text-decoration-color: #0087ff\">Dropout</span>)               │ (<span style=\"color: #00d7ff; text-decoration-color: #00d7ff\">None</span>, <span style=\"color: #00af00; text-decoration-color: #00af00\">128</span>)            │             <span style=\"color: #00af00; text-decoration-color: #00af00\">0</span> │\n",
       "├─────────────────────────────────┼────────────────────────┼───────────────┤\n",
       "│ dense_1 (<span style=\"color: #0087ff; text-decoration-color: #0087ff\">Dense</span>)                 │ (<span style=\"color: #00d7ff; text-decoration-color: #00d7ff\">None</span>, <span style=\"color: #00af00; text-decoration-color: #00af00\">64</span>)             │         <span style=\"color: #00af00; text-decoration-color: #00af00\">8,256</span> │\n",
       "├─────────────────────────────────┼────────────────────────┼───────────────┤\n",
       "│ dropout_1 (<span style=\"color: #0087ff; text-decoration-color: #0087ff\">Dropout</span>)             │ (<span style=\"color: #00d7ff; text-decoration-color: #00d7ff\">None</span>, <span style=\"color: #00af00; text-decoration-color: #00af00\">64</span>)             │             <span style=\"color: #00af00; text-decoration-color: #00af00\">0</span> │\n",
       "├─────────────────────────────────┼────────────────────────┼───────────────┤\n",
       "│ dense_2 (<span style=\"color: #0087ff; text-decoration-color: #0087ff\">Dense</span>)                 │ (<span style=\"color: #00d7ff; text-decoration-color: #00d7ff\">None</span>, <span style=\"color: #00af00; text-decoration-color: #00af00\">1</span>)              │            <span style=\"color: #00af00; text-decoration-color: #00af00\">65</span> │\n",
       "└─────────────────────────────────┴────────────────────────┴───────────────┘\n",
       "</pre>\n"
      ],
      "text/plain": [
       "┏━━━━━━━━━━━━━━━━━━━━━━━━━━━━━━━━━┳━━━━━━━━━━━━━━━━━━━━━━━━┳━━━━━━━━━━━━━━━┓\n",
       "┃\u001b[1m \u001b[0m\u001b[1mLayer (type)                   \u001b[0m\u001b[1m \u001b[0m┃\u001b[1m \u001b[0m\u001b[1mOutput Shape          \u001b[0m\u001b[1m \u001b[0m┃\u001b[1m \u001b[0m\u001b[1m      Param #\u001b[0m\u001b[1m \u001b[0m┃\n",
       "┡━━━━━━━━━━━━━━━━━━━━━━━━━━━━━━━━━╇━━━━━━━━━━━━━━━━━━━━━━━━╇━━━━━━━━━━━━━━━┩\n",
       "│ dense (\u001b[38;5;33mDense\u001b[0m)                   │ (\u001b[38;5;45mNone\u001b[0m, \u001b[38;5;34m128\u001b[0m)            │       \u001b[38;5;34m275,200\u001b[0m │\n",
       "├─────────────────────────────────┼────────────────────────┼───────────────┤\n",
       "│ dropout (\u001b[38;5;33mDropout\u001b[0m)               │ (\u001b[38;5;45mNone\u001b[0m, \u001b[38;5;34m128\u001b[0m)            │             \u001b[38;5;34m0\u001b[0m │\n",
       "├─────────────────────────────────┼────────────────────────┼───────────────┤\n",
       "│ dense_1 (\u001b[38;5;33mDense\u001b[0m)                 │ (\u001b[38;5;45mNone\u001b[0m, \u001b[38;5;34m64\u001b[0m)             │         \u001b[38;5;34m8,256\u001b[0m │\n",
       "├─────────────────────────────────┼────────────────────────┼───────────────┤\n",
       "│ dropout_1 (\u001b[38;5;33mDropout\u001b[0m)             │ (\u001b[38;5;45mNone\u001b[0m, \u001b[38;5;34m64\u001b[0m)             │             \u001b[38;5;34m0\u001b[0m │\n",
       "├─────────────────────────────────┼────────────────────────┼───────────────┤\n",
       "│ dense_2 (\u001b[38;5;33mDense\u001b[0m)                 │ (\u001b[38;5;45mNone\u001b[0m, \u001b[38;5;34m1\u001b[0m)              │            \u001b[38;5;34m65\u001b[0m │\n",
       "└─────────────────────────────────┴────────────────────────┴───────────────┘\n"
      ]
     },
     "metadata": {},
     "output_type": "display_data"
    },
    {
     "data": {
      "text/html": [
       "<pre style=\"white-space:pre;overflow-x:auto;line-height:normal;font-family:Menlo,'DejaVu Sans Mono',consolas,'Courier New',monospace\"><span style=\"font-weight: bold\"> Total params: </span><span style=\"color: #00af00; text-decoration-color: #00af00\">283,521</span> (1.08 MB)\n",
       "</pre>\n"
      ],
      "text/plain": [
       "\u001b[1m Total params: \u001b[0m\u001b[38;5;34m283,521\u001b[0m (1.08 MB)\n"
      ]
     },
     "metadata": {},
     "output_type": "display_data"
    },
    {
     "data": {
      "text/html": [
       "<pre style=\"white-space:pre;overflow-x:auto;line-height:normal;font-family:Menlo,'DejaVu Sans Mono',consolas,'Courier New',monospace\"><span style=\"font-weight: bold\"> Trainable params: </span><span style=\"color: #00af00; text-decoration-color: #00af00\">283,521</span> (1.08 MB)\n",
       "</pre>\n"
      ],
      "text/plain": [
       "\u001b[1m Trainable params: \u001b[0m\u001b[38;5;34m283,521\u001b[0m (1.08 MB)\n"
      ]
     },
     "metadata": {},
     "output_type": "display_data"
    },
    {
     "data": {
      "text/html": [
       "<pre style=\"white-space:pre;overflow-x:auto;line-height:normal;font-family:Menlo,'DejaVu Sans Mono',consolas,'Courier New',monospace\"><span style=\"font-weight: bold\"> Non-trainable params: </span><span style=\"color: #00af00; text-decoration-color: #00af00\">0</span> (0.00 B)\n",
       "</pre>\n"
      ],
      "text/plain": [
       "\u001b[1m Non-trainable params: \u001b[0m\u001b[38;5;34m0\u001b[0m (0.00 B)\n"
      ]
     },
     "metadata": {},
     "output_type": "display_data"
    },
    {
     "name": "stdout",
     "output_type": "stream",
     "text": [
      "None\n",
      "Epoch 1/50\n",
      "\u001b[1m3420/3420\u001b[0m \u001b[32m━━━━━━━━━━━━━━━━━━━━\u001b[0m\u001b[37m\u001b[0m \u001b[1m7s\u001b[0m 2ms/step - loss: 3.3892 - mae: 1.3945 - val_loss: 2.0537 - val_mae: 1.0834\n",
      "Epoch 2/50\n",
      "\u001b[1m3420/3420\u001b[0m \u001b[32m━━━━━━━━━━━━━━━━━━━━\u001b[0m\u001b[37m\u001b[0m \u001b[1m6s\u001b[0m 2ms/step - loss: 2.2943 - mae: 1.1520 - val_loss: 2.0259 - val_mae: 1.0702\n",
      "Epoch 3/50\n",
      "\u001b[1m3420/3420\u001b[0m \u001b[32m━━━━━━━━━━━━━━━━━━━━\u001b[0m\u001b[37m\u001b[0m \u001b[1m6s\u001b[0m 2ms/step - loss: 2.2721 - mae: 1.1484 - val_loss: 2.0362 - val_mae: 1.0828\n",
      "Epoch 4/50\n",
      "\u001b[1m3420/3420\u001b[0m \u001b[32m━━━━━━━━━━━━━━━━━━━━\u001b[0m\u001b[37m\u001b[0m \u001b[1m6s\u001b[0m 2ms/step - loss: 2.1860 - mae: 1.1227 - val_loss: 1.9273 - val_mae: 1.0480\n",
      "Epoch 5/50\n",
      "\u001b[1m3420/3420\u001b[0m \u001b[32m━━━━━━━━━━━━━━━━━━━━\u001b[0m\u001b[37m\u001b[0m \u001b[1m6s\u001b[0m 2ms/step - loss: 2.1968 - mae: 1.1238 - val_loss: 2.0799 - val_mae: 1.0834\n",
      "Epoch 6/50\n",
      "\u001b[1m3420/3420\u001b[0m \u001b[32m━━━━━━━━━━━━━━━━━━━━\u001b[0m\u001b[37m\u001b[0m \u001b[1m6s\u001b[0m 2ms/step - loss: 2.1706 - mae: 1.1144 - val_loss: 1.9476 - val_mae: 1.0633\n",
      "Epoch 7/50\n",
      "\u001b[1m3420/3420\u001b[0m \u001b[32m━━━━━━━━━━━━━━━━━━━━\u001b[0m\u001b[37m\u001b[0m \u001b[1m6s\u001b[0m 2ms/step - loss: 2.1373 - mae: 1.1056 - val_loss: 1.8937 - val_mae: 1.0367\n",
      "Epoch 8/50\n",
      "\u001b[1m3420/3420\u001b[0m \u001b[32m━━━━━━━━━━━━━━━━━━━━\u001b[0m\u001b[37m\u001b[0m \u001b[1m6s\u001b[0m 2ms/step - loss: 2.1364 - mae: 1.1049 - val_loss: 2.3989 - val_mae: 1.1549\n",
      "Epoch 9/50\n",
      "\u001b[1m3420/3420\u001b[0m \u001b[32m━━━━━━━━━━━━━━━━━━━━\u001b[0m\u001b[37m\u001b[0m \u001b[1m6s\u001b[0m 2ms/step - loss: 2.1150 - mae: 1.1011 - val_loss: 1.9807 - val_mae: 1.0612\n",
      "Epoch 10/50\n",
      "\u001b[1m3420/3420\u001b[0m \u001b[32m━━━━━━━━━━━━━━━━━━━━\u001b[0m\u001b[37m\u001b[0m \u001b[1m6s\u001b[0m 2ms/step - loss: 2.1129 - mae: 1.0989 - val_loss: 2.3004 - val_mae: 1.1793\n",
      "Epoch 11/50\n",
      "\u001b[1m3420/3420\u001b[0m \u001b[32m━━━━━━━━━━━━━━━━━━━━\u001b[0m\u001b[37m\u001b[0m \u001b[1m6s\u001b[0m 2ms/step - loss: 2.1090 - mae: 1.0962 - val_loss: 1.9664 - val_mae: 1.0585\n",
      "Epoch 12/50\n",
      "\u001b[1m3420/3420\u001b[0m \u001b[32m━━━━━━━━━━━━━━━━━━━━\u001b[0m\u001b[37m\u001b[0m \u001b[1m6s\u001b[0m 2ms/step - loss: 2.0915 - mae: 1.0941 - val_loss: 1.9512 - val_mae: 1.0572\n",
      "Epoch 13/50\n",
      "\u001b[1m3420/3420\u001b[0m \u001b[32m━━━━━━━━━━━━━━━━━━━━\u001b[0m\u001b[37m\u001b[0m \u001b[1m6s\u001b[0m 2ms/step - loss: 2.0946 - mae: 1.0923 - val_loss: 1.9517 - val_mae: 1.0647\n",
      "Epoch 14/50\n",
      "\u001b[1m3420/3420\u001b[0m \u001b[32m━━━━━━━━━━━━━━━━━━━━\u001b[0m\u001b[37m\u001b[0m \u001b[1m6s\u001b[0m 2ms/step - loss: 2.0943 - mae: 1.0935 - val_loss: 1.9580 - val_mae: 1.0563\n",
      "Epoch 15/50\n",
      "\u001b[1m3420/3420\u001b[0m \u001b[32m━━━━━━━━━━━━━━━━━━━━\u001b[0m\u001b[37m\u001b[0m \u001b[1m6s\u001b[0m 2ms/step - loss: 2.0776 - mae: 1.0906 - val_loss: 2.0144 - val_mae: 1.0778\n",
      "Epoch 16/50\n",
      "\u001b[1m3420/3420\u001b[0m \u001b[32m━━━━━━━━━━━━━━━━━━━━\u001b[0m\u001b[37m\u001b[0m \u001b[1m6s\u001b[0m 2ms/step - loss: 2.0800 - mae: 1.0903 - val_loss: 2.1546 - val_mae: 1.1015\n",
      "Epoch 17/50\n",
      "\u001b[1m3420/3420\u001b[0m \u001b[32m━━━━━━━━━━━━━━━━━━━━\u001b[0m\u001b[37m\u001b[0m \u001b[1m6s\u001b[0m 2ms/step - loss: 2.0730 - mae: 1.0881 - val_loss: 2.1348 - val_mae: 1.1133\n",
      "Epoch 18/50\n",
      "\u001b[1m3420/3420\u001b[0m \u001b[32m━━━━━━━━━━━━━━━━━━━━\u001b[0m\u001b[37m\u001b[0m \u001b[1m6s\u001b[0m 2ms/step - loss: 2.0673 - mae: 1.0859 - val_loss: 2.0089 - val_mae: 1.0621\n",
      "Epoch 19/50\n",
      "\u001b[1m3420/3420\u001b[0m \u001b[32m━━━━━━━━━━━━━━━━━━━━\u001b[0m\u001b[37m\u001b[0m \u001b[1m6s\u001b[0m 2ms/step - loss: 2.0936 - mae: 1.0907 - val_loss: 1.9672 - val_mae: 1.0630\n",
      "Epoch 20/50\n",
      "\u001b[1m3420/3420\u001b[0m \u001b[32m━━━━━━━━━━━━━━━━━━━━\u001b[0m\u001b[37m\u001b[0m \u001b[1m6s\u001b[0m 2ms/step - loss: 2.0730 - mae: 1.0902 - val_loss: 1.9506 - val_mae: 1.0675\n",
      "Epoch 21/50\n",
      "\u001b[1m3420/3420\u001b[0m \u001b[32m━━━━━━━━━━━━━━━━━━━━\u001b[0m\u001b[37m\u001b[0m \u001b[1m6s\u001b[0m 2ms/step - loss: 2.0793 - mae: 1.0889 - val_loss: 2.1182 - val_mae: 1.0942\n",
      "Epoch 22/50\n",
      "\u001b[1m3420/3420\u001b[0m \u001b[32m━━━━━━━━━━━━━━━━━━━━\u001b[0m\u001b[37m\u001b[0m \u001b[1m6s\u001b[0m 2ms/step - loss: 2.0515 - mae: 1.0816 - val_loss: 2.0844 - val_mae: 1.0873\n",
      "Epoch 23/50\n",
      "\u001b[1m3420/3420\u001b[0m \u001b[32m━━━━━━━━━━━━━━━━━━━━\u001b[0m\u001b[37m\u001b[0m \u001b[1m6s\u001b[0m 2ms/step - loss: 2.0634 - mae: 1.0875 - val_loss: 1.9198 - val_mae: 1.0523\n",
      "Epoch 24/50\n",
      "\u001b[1m3420/3420\u001b[0m \u001b[32m━━━━━━━━━━━━━━━━━━━━\u001b[0m\u001b[37m\u001b[0m \u001b[1m6s\u001b[0m 2ms/step - loss: 2.0817 - mae: 1.0884 - val_loss: 1.9727 - val_mae: 1.0658\n",
      "Epoch 25/50\n",
      "\u001b[1m3420/3420\u001b[0m \u001b[32m━━━━━━━━━━━━━━━━━━━━\u001b[0m\u001b[37m\u001b[0m \u001b[1m6s\u001b[0m 2ms/step - loss: 2.0664 - mae: 1.0850 - val_loss: 1.8588 - val_mae: 1.0293\n",
      "Epoch 26/50\n",
      "\u001b[1m3420/3420\u001b[0m \u001b[32m━━━━━━━━━━━━━━━━━━━━\u001b[0m\u001b[37m\u001b[0m \u001b[1m6s\u001b[0m 2ms/step - loss: 2.0522 - mae: 1.0801 - val_loss: 2.0298 - val_mae: 1.0792\n",
      "Epoch 27/50\n",
      "\u001b[1m3420/3420\u001b[0m \u001b[32m━━━━━━━━━━━━━━━━━━━━\u001b[0m\u001b[37m\u001b[0m \u001b[1m6s\u001b[0m 2ms/step - loss: 2.0987 - mae: 1.0933 - val_loss: 2.2238 - val_mae: 1.1395\n",
      "Epoch 28/50\n",
      "\u001b[1m3420/3420\u001b[0m \u001b[32m━━━━━━━━━━━━━━━━━━━━\u001b[0m\u001b[37m\u001b[0m \u001b[1m6s\u001b[0m 2ms/step - loss: 2.0283 - mae: 1.0766 - val_loss: 1.9902 - val_mae: 1.0619\n",
      "Epoch 29/50\n",
      "\u001b[1m3420/3420\u001b[0m \u001b[32m━━━━━━━━━━━━━━━━━━━━\u001b[0m\u001b[37m\u001b[0m \u001b[1m6s\u001b[0m 2ms/step - loss: 2.0361 - mae: 1.0770 - val_loss: 2.1437 - val_mae: 1.1179\n",
      "Epoch 30/50\n",
      "\u001b[1m3420/3420\u001b[0m \u001b[32m━━━━━━━━━━━━━━━━━━━━\u001b[0m\u001b[37m\u001b[0m \u001b[1m6s\u001b[0m 2ms/step - loss: 2.0420 - mae: 1.0810 - val_loss: 2.0597 - val_mae: 1.0873\n",
      "Epoch 31/50\n",
      "\u001b[1m3420/3420\u001b[0m \u001b[32m━━━━━━━━━━━━━━━━━━━━\u001b[0m\u001b[37m\u001b[0m \u001b[1m6s\u001b[0m 2ms/step - loss: 2.0414 - mae: 1.0801 - val_loss: 2.1925 - val_mae: 1.1040\n",
      "Epoch 32/50\n",
      "\u001b[1m3420/3420\u001b[0m \u001b[32m━━━━━━━━━━━━━━━━━━━━\u001b[0m\u001b[37m\u001b[0m \u001b[1m6s\u001b[0m 2ms/step - loss: 2.0362 - mae: 1.0753 - val_loss: 2.1259 - val_mae: 1.0948\n",
      "Epoch 33/50\n",
      "\u001b[1m3420/3420\u001b[0m \u001b[32m━━━━━━━━━━━━━━━━━━━━\u001b[0m\u001b[37m\u001b[0m \u001b[1m6s\u001b[0m 2ms/step - loss: 2.0379 - mae: 1.0772 - val_loss: 1.8859 - val_mae: 1.0388\n",
      "Epoch 34/50\n",
      "\u001b[1m3420/3420\u001b[0m \u001b[32m━━━━━━━━━━━━━━━━━━━━\u001b[0m\u001b[37m\u001b[0m \u001b[1m6s\u001b[0m 2ms/step - loss: 2.0187 - mae: 1.0729 - val_loss: 1.9154 - val_mae: 1.0481\n",
      "Epoch 35/50\n",
      "\u001b[1m3420/3420\u001b[0m \u001b[32m━━━━━━━━━━━━━━━━━━━━\u001b[0m\u001b[37m\u001b[0m \u001b[1m6s\u001b[0m 2ms/step - loss: 2.0312 - mae: 1.0764 - val_loss: 1.9763 - val_mae: 1.0681\n",
      "Epoch 36/50\n",
      "\u001b[1m3420/3420\u001b[0m \u001b[32m━━━━━━━━━━━━━━━━━━━━\u001b[0m\u001b[37m\u001b[0m \u001b[1m6s\u001b[0m 2ms/step - loss: 2.0121 - mae: 1.0739 - val_loss: 1.9870 - val_mae: 1.0696\n",
      "Epoch 37/50\n",
      "\u001b[1m3420/3420\u001b[0m \u001b[32m━━━━━━━━━━━━━━━━━━━━\u001b[0m\u001b[37m\u001b[0m \u001b[1m6s\u001b[0m 2ms/step - loss: 1.9965 - mae: 1.0692 - val_loss: 2.0355 - val_mae: 1.0921\n",
      "Epoch 38/50\n",
      "\u001b[1m3420/3420\u001b[0m \u001b[32m━━━━━━━━━━━━━━━━━━━━\u001b[0m\u001b[37m\u001b[0m \u001b[1m6s\u001b[0m 2ms/step - loss: 2.0207 - mae: 1.0757 - val_loss: 2.0791 - val_mae: 1.0861\n",
      "Epoch 39/50\n",
      "\u001b[1m3420/3420\u001b[0m \u001b[32m━━━━━━━━━━━━━━━━━━━━\u001b[0m\u001b[37m\u001b[0m \u001b[1m6s\u001b[0m 2ms/step - loss: 2.0611 - mae: 1.0848 - val_loss: 1.8767 - val_mae: 1.0363\n",
      "Epoch 40/50\n",
      "\u001b[1m3420/3420\u001b[0m \u001b[32m━━━━━━━━━━━━━━━━━━━━\u001b[0m\u001b[37m\u001b[0m \u001b[1m6s\u001b[0m 2ms/step - loss: 2.0172 - mae: 1.0730 - val_loss: 1.8798 - val_mae: 1.0398\n",
      "Epoch 41/50\n",
      "\u001b[1m3420/3420\u001b[0m \u001b[32m━━━━━━━━━━━━━━━━━━━━\u001b[0m\u001b[37m\u001b[0m \u001b[1m6s\u001b[0m 2ms/step - loss: 2.0427 - mae: 1.0793 - val_loss: 1.9361 - val_mae: 1.0484\n",
      "Epoch 42/50\n",
      "\u001b[1m3420/3420\u001b[0m \u001b[32m━━━━━━━━━━━━━━━━━━━━\u001b[0m\u001b[37m\u001b[0m \u001b[1m6s\u001b[0m 2ms/step - loss: 2.0318 - mae: 1.0778 - val_loss: 1.9424 - val_mae: 1.0587\n",
      "Epoch 43/50\n",
      "\u001b[1m3420/3420\u001b[0m \u001b[32m━━━━━━━━━━━━━━━━━━━━\u001b[0m\u001b[37m\u001b[0m \u001b[1m6s\u001b[0m 2ms/step - loss: 2.0268 - mae: 1.0750 - val_loss: 1.9908 - val_mae: 1.0738\n",
      "Epoch 44/50\n",
      "\u001b[1m3420/3420\u001b[0m \u001b[32m━━━━━━━━━━━━━━━━━━━━\u001b[0m\u001b[37m\u001b[0m \u001b[1m6s\u001b[0m 2ms/step - loss: 2.0397 - mae: 1.0772 - val_loss: 1.9168 - val_mae: 1.0424\n",
      "Epoch 45/50\n",
      "\u001b[1m3420/3420\u001b[0m \u001b[32m━━━━━━━━━━━━━━━━━━━━\u001b[0m\u001b[37m\u001b[0m \u001b[1m6s\u001b[0m 2ms/step - loss: 2.0224 - mae: 1.0723 - val_loss: 1.9935 - val_mae: 1.0812\n",
      "Epoch 46/50\n",
      "\u001b[1m3420/3420\u001b[0m \u001b[32m━━━━━━━━━━━━━━━━━━━━\u001b[0m\u001b[37m\u001b[0m \u001b[1m6s\u001b[0m 2ms/step - loss: 2.0151 - mae: 1.0719 - val_loss: 1.9361 - val_mae: 1.0563\n",
      "Epoch 47/50\n",
      "\u001b[1m3420/3420\u001b[0m \u001b[32m━━━━━━━━━━━━━━━━━━━━\u001b[0m\u001b[37m\u001b[0m \u001b[1m6s\u001b[0m 2ms/step - loss: 2.0256 - mae: 1.0768 - val_loss: 1.8909 - val_mae: 1.0403\n",
      "Epoch 48/50\n",
      "\u001b[1m3420/3420\u001b[0m \u001b[32m━━━━━━━━━━━━━━━━━━━━\u001b[0m\u001b[37m\u001b[0m \u001b[1m6s\u001b[0m 2ms/step - loss: 2.0075 - mae: 1.0701 - val_loss: 2.1128 - val_mae: 1.0931\n",
      "Epoch 49/50\n",
      "\u001b[1m3420/3420\u001b[0m \u001b[32m━━━━━━━━━━━━━━━━━━━━\u001b[0m\u001b[37m\u001b[0m \u001b[1m6s\u001b[0m 2ms/step - loss: 2.0288 - mae: 1.0779 - val_loss: 1.8519 - val_mae: 1.0271\n",
      "Epoch 50/50\n",
      "\u001b[1m3420/3420\u001b[0m \u001b[32m━━━━━━━━━━━━━━━━━━━━\u001b[0m\u001b[37m\u001b[0m \u001b[1m6s\u001b[0m 2ms/step - loss: 2.0110 - mae: 1.0721 - val_loss: 2.1845 - val_mae: 1.1154\n"
     ]
    }
   ],
   "source": [
    "input_shape_dnn = (X_train.shape[1],)\n",
    "\n",
    "dnn_model = create_dnn(input_shape_dnn)\n",
    "\n",
    "dnn_history = dnn_model.fit(\n",
    "    X_train, y_train,\n",
    "    validation_split=0.2,\n",
    "    epochs=50,\n",
    "    batch_size=32,\n",
    "    verbose=1\n",
    ")"
   ]
  },
  {
   "cell_type": "markdown",
   "metadata": {},
   "source": [
    "This code evaluates the performance of the trained Deep Neural Network (DNN) model on the test dataset and contextualizes the results by analyzing the target variable's distribution. First, the model's performance is assessed using the evaluate function, which calculates the Mean Absolute Error (MAE) on the test set. The MAE quantifies the average absolute difference between the predicted and actual values, providing a straightforward measure of the model's accuracy. In this case, the reported MAE on the test set is 1.1123, indicating the average prediction error. This step is essential to assess how well the model generalizes to unseen data and provides a practical sense of prediction accuracy in the same units as the target variable. The MAE is particularly useful for regression tasks as it is not overly sensitive to outliers, unlike other metrics like Mean Squared Error (MSE)."
   ]
  },
  {
   "cell_type": "code",
   "execution_count": 39,
   "metadata": {},
   "outputs": [
    {
     "name": "stdout",
     "output_type": "stream",
     "text": [
      "DNN Mean Absolute Error (MAE) no conjunto de teste: 1.1123\n"
     ]
    }
   ],
   "source": [
    "dnn_eval = dnn_model.evaluate(X_test, y_test, verbose=0)\n",
    "print(f\"DNN Mean Absolute Error (MAE) no conjunto de teste: {dnn_eval[1]:.4f}\")"
   ]
  },
  {
   "cell_type": "code",
   "execution_count": 40,
   "metadata": {},
   "outputs": [
    {
     "name": "stdout",
     "output_type": "stream",
     "text": [
      "Média de Y: 2.0095\n",
      "Desvio padrão de Y: 2.7165\n",
      "Valor mínimo de Y: -9.9334\n",
      "Valor máximo de Y: 12.3591\n"
     ]
    }
   ],
   "source": [
    "print(f\"Média de Y: {np.mean(target_data):.4f}\")\n",
    "print(f\"Desvio padrão de Y: {np.std(target_data):.4f}\")\n",
    "print(f\"Valor mínimo de Y: {np.min(target_data):.4f}\")\n",
    "print(f\"Valor máximo de Y: {np.max(target_data):.4f}\")\n"
   ]
  },
  {
   "cell_type": "markdown",
   "metadata": {},
   "source": [
    "In summary, the evaluation of the DNN model demonstrates its strong predictive performance, with a low MAE and relative MAE, indicating that the model's errors are small compared to the variability of the target variable. The descriptive statistics provide additional context for interpreting these results, ensuring that the predictions are meaningful in the biological context. This evaluation confirms the utility of the model for applications such as predicting drug responses or other biological outcomes, where accuracy and reliability are critical."
   ]
  },
  {
   "cell_type": "code",
   "execution_count": 41,
   "metadata": {},
   "outputs": [
    {
     "name": "stdout",
     "output_type": "stream",
     "text": [
      "MAE relativo ao intervalo de Y: 4.99%\n"
     ]
    }
   ],
   "source": [
    "mae_relative = dnn_eval[1] / (np.max(target_data) - np.min(target_data))\n",
    "print(f\"MAE relativo ao intervalo de Y: {mae_relative:.2%}\")\n"
   ]
  },
  {
   "cell_type": "markdown",
   "metadata": {},
   "source": [
    "The histogram reveals the shape of the data distribution. In this case, the target variable appears to follow a roughly symmetric distribution centered near zero, with a gradual tapering of frequency toward the extremes. This suggests that the data has a bell-shaped pattern, which could indicate a normal-like distribution, though it would require further statistical tests to confirm. Understanding the distribution of the target variable is critical because it impacts the choice of machine learning models and evaluation metrics. For instance, if the distribution were highly skewed or multimodal, different modeling strategies might be required.\n",
    "\n",
    "From a biological perspective, this distribution provides insights into the variability of the outcome being studied, such as drug response or a biological measurement. The high frequency of values near the center suggests that most outcomes cluster around a typical value, while the lower frequencies at the extremes indicate rarer, potentially significant biological events."
   ]
  },
  {
   "cell_type": "code",
   "execution_count": 42,
   "metadata": {},
   "outputs": [
    {
     "data": {
      "image/png": "[encoded data removed]",
      "text/plain": [
       "<Figure size 640x480 with 1 Axes>"
      ]
     },
     "metadata": {},
     "output_type": "display_data"
    }
   ],
   "source": [
    "import matplotlib.pyplot as plt\n",
    "plt.hist(target_data, bins=50, edgecolor='k')\n",
    "plt.title(\"Distribuição da Variável Alvo (Y)\")\n",
    "plt.xlabel(\"Valores de Y\")\n",
    "plt.ylabel(\"Frequência\")\n",
    "plt.show()\n"
   ]
  },
  {
   "cell_type": "markdown",
   "metadata": {},
   "source": [
    "### CNN"
   ]
  },
  {
   "cell_type": "markdown",
   "metadata": {},
   "source": [
    "The create_cnn function defines the CNN architecture. It begins by reshaping the input data to a format suitable for convolutional operations, treating the features as a 1D sequence. The model includes two 1D convolutional layers with 32 and 64 filters, respectively, each using a kernel size of 3 and ReLU activation. These layers extract local patterns from the input data, such as dependencies or correlations between features. Each convolutional layer is followed by a MaxPooling layer, which downsamples the data to reduce its dimensionality while retaining the most significant features, thereby improving computational efficiency.\n",
    "\n",
    "After the convolutional layers, the data is flattened into a single vector to prepare it for the fully connected layers. A dense layer with 64 neurons and ReLU activation is included to learn high-level feature representations. A dropout layer with a 30% dropout rate follows, helping to reduce overfitting by randomly deactivating neurons during training. The final layer is a dense output layer with one neuron and a linear activation function, which is appropriate for regression tasks where the output is a continuous variable. The model is compiled using the Adam optimizer, which dynamically adjusts learning rates for faster convergence, the mean squared error (MSE) as the loss function, and the mean absolute error (MAE) as a performance metric for evaluation."
   ]
  },
  {
   "cell_type": "code",
   "execution_count": 43,
   "metadata": {},
   "outputs": [],
   "source": [
    "def create_cnn(input_shape):\n",
    "    model = Sequential([\n",
    "        layers.Reshape((input_shape[0], 1), input_shape=input_shape),\n",
    "        layers.Conv1D(32, kernel_size=3, activation='relu'),\n",
    "        layers.MaxPooling1D(pool_size=2),\n",
    "        layers.Conv1D(64, kernel_size=3, activation='relu'),\n",
    "        layers.MaxPooling1D(pool_size=2),\n",
    "        layers.Flatten(),\n",
    "        layers.Dense(64, activation='relu'),\n",
    "        layers.Dropout(0.3),\n",
    "        layers.Dense(1, activation='linear')\n",
    "    ])\n",
    "    model.compile(optimizer='adam', loss='mse', metrics=['mae'])\n",
    "    print(\"CNN Summary:\")\n",
    "    print(model.summary())\n",
    "    return model\n",
    "\n"
   ]
  },
  {
   "cell_type": "markdown",
   "metadata": {},
   "source": [
    "The create_cnn function is called to instantiate the model, and the model is trained using the fit method. During training, 20% of the data is reserved for validation, allowing the model's generalization performance to be monitored. The training runs for 50 epochs, with a batch size of 32, enabling frequent weight updates and faster convergence. The training process adjusts the model's parameters, including filters, weights, and biases, to minimize the error on the training data while maintaining good performance on the validation set.\n",
    "\n",
    "This CNN architecture is particularly advantageous because it leverages convolutional layers to extract hierarchical patterns, making it ideal for datasets with complex dependencies. The pooling layers and dropout further enhance its generalization by reducing overfitting and computational complexity. However, training CNNs can be computationally intensive, and the choice of hyperparameters, such as the number of filters, kernel size, and dropout rate, significantly impacts performance. From a biological perspective, this CNN model is well-suited for analyzing molecular descriptors or gene expression data, as it can capture local dependencies and intricate relationships between features. This makes it highly effective for tasks like predicting drug efficacy or modeling biological responses, where understanding subtle patterns in the data is crucial for generating meaningful predictions."
   ]
  },
  {
   "cell_type": "code",
   "execution_count": 44,
   "metadata": {},
   "outputs": [
    {
     "name": "stdout",
     "output_type": "stream",
     "text": [
      "CNN Summary:\n"
     ]
    },
    {
     "data": {
      "text/html": [
       "<pre style=\"white-space:pre;overflow-x:auto;line-height:normal;font-family:Menlo,'DejaVu Sans Mono',consolas,'Courier New',monospace\"><span style=\"font-weight: bold\">Model: \"sequential_1\"</span>\n",
       "</pre>\n"
      ],
      "text/plain": [
       "\u001b[1mModel: \"sequential_1\"\u001b[0m\n"
      ]
     },
     "metadata": {},
     "output_type": "display_data"
    },
    {
     "data": {
      "text/html": [
       "<pre style=\"white-space:pre;overflow-x:auto;line-height:normal;font-family:Menlo,'DejaVu Sans Mono',consolas,'Courier New',monospace\">┏━━━━━━━━━━━━━━━━━━━━━━━━━━━━━━━━━┳━━━━━━━━━━━━━━━━━━━━━━━━┳━━━━━━━━━━━━━━━┓\n",
       "┃<span style=\"font-weight: bold\"> Layer (type)                    </span>┃<span style=\"font-weight: bold\"> Output Shape           </span>┃<span style=\"font-weight: bold\">       Param # </span>┃\n",
       "┡━━━━━━━━━━━━━━━━━━━━━━━━━━━━━━━━━╇━━━━━━━━━━━━━━━━━━━━━━━━╇━━━━━━━━━━━━━━━┩\n",
       "│ reshape (<span style=\"color: #0087ff; text-decoration-color: #0087ff\">Reshape</span>)               │ (<span style=\"color: #00d7ff; text-decoration-color: #00d7ff\">None</span>, <span style=\"color: #00af00; text-decoration-color: #00af00\">2149</span>, <span style=\"color: #00af00; text-decoration-color: #00af00\">1</span>)        │             <span style=\"color: #00af00; text-decoration-color: #00af00\">0</span> │\n",
       "├─────────────────────────────────┼────────────────────────┼───────────────┤\n",
       "│ conv1d (<span style=\"color: #0087ff; text-decoration-color: #0087ff\">Conv1D</span>)                 │ (<span style=\"color: #00d7ff; text-decoration-color: #00d7ff\">None</span>, <span style=\"color: #00af00; text-decoration-color: #00af00\">2147</span>, <span style=\"color: #00af00; text-decoration-color: #00af00\">32</span>)       │           <span style=\"color: #00af00; text-decoration-color: #00af00\">128</span> │\n",
       "├─────────────────────────────────┼────────────────────────┼───────────────┤\n",
       "│ max_pooling1d (<span style=\"color: #0087ff; text-decoration-color: #0087ff\">MaxPooling1D</span>)    │ (<span style=\"color: #00d7ff; text-decoration-color: #00d7ff\">None</span>, <span style=\"color: #00af00; text-decoration-color: #00af00\">1073</span>, <span style=\"color: #00af00; text-decoration-color: #00af00\">32</span>)       │             <span style=\"color: #00af00; text-decoration-color: #00af00\">0</span> │\n",
       "├─────────────────────────────────┼────────────────────────┼───────────────┤\n",
       "│ conv1d_1 (<span style=\"color: #0087ff; text-decoration-color: #0087ff\">Conv1D</span>)               │ (<span style=\"color: #00d7ff; text-decoration-color: #00d7ff\">None</span>, <span style=\"color: #00af00; text-decoration-color: #00af00\">1071</span>, <span style=\"color: #00af00; text-decoration-color: #00af00\">64</span>)       │         <span style=\"color: #00af00; text-decoration-color: #00af00\">6,208</span> │\n",
       "├─────────────────────────────────┼────────────────────────┼───────────────┤\n",
       "│ max_pooling1d_1 (<span style=\"color: #0087ff; text-decoration-color: #0087ff\">MaxPooling1D</span>)  │ (<span style=\"color: #00d7ff; text-decoration-color: #00d7ff\">None</span>, <span style=\"color: #00af00; text-decoration-color: #00af00\">535</span>, <span style=\"color: #00af00; text-decoration-color: #00af00\">64</span>)        │             <span style=\"color: #00af00; text-decoration-color: #00af00\">0</span> │\n",
       "├─────────────────────────────────┼────────────────────────┼───────────────┤\n",
       "│ flatten (<span style=\"color: #0087ff; text-decoration-color: #0087ff\">Flatten</span>)               │ (<span style=\"color: #00d7ff; text-decoration-color: #00d7ff\">None</span>, <span style=\"color: #00af00; text-decoration-color: #00af00\">34240</span>)          │             <span style=\"color: #00af00; text-decoration-color: #00af00\">0</span> │\n",
       "├─────────────────────────────────┼────────────────────────┼───────────────┤\n",
       "│ dense_3 (<span style=\"color: #0087ff; text-decoration-color: #0087ff\">Dense</span>)                 │ (<span style=\"color: #00d7ff; text-decoration-color: #00d7ff\">None</span>, <span style=\"color: #00af00; text-decoration-color: #00af00\">64</span>)             │     <span style=\"color: #00af00; text-decoration-color: #00af00\">2,191,424</span> │\n",
       "├─────────────────────────────────┼────────────────────────┼───────────────┤\n",
       "│ dropout_2 (<span style=\"color: #0087ff; text-decoration-color: #0087ff\">Dropout</span>)             │ (<span style=\"color: #00d7ff; text-decoration-color: #00d7ff\">None</span>, <span style=\"color: #00af00; text-decoration-color: #00af00\">64</span>)             │             <span style=\"color: #00af00; text-decoration-color: #00af00\">0</span> │\n",
       "├─────────────────────────────────┼────────────────────────┼───────────────┤\n",
       "│ dense_4 (<span style=\"color: #0087ff; text-decoration-color: #0087ff\">Dense</span>)                 │ (<span style=\"color: #00d7ff; text-decoration-color: #00d7ff\">None</span>, <span style=\"color: #00af00; text-decoration-color: #00af00\">1</span>)              │            <span style=\"color: #00af00; text-decoration-color: #00af00\">65</span> │\n",
       "└─────────────────────────────────┴────────────────────────┴───────────────┘\n",
       "</pre>\n"
      ],
      "text/plain": [
       "┏━━━━━━━━━━━━━━━━━━━━━━━━━━━━━━━━━┳━━━━━━━━━━━━━━━━━━━━━━━━┳━━━━━━━━━━━━━━━┓\n",
       "┃\u001b[1m \u001b[0m\u001b[1mLayer (type)                   \u001b[0m\u001b[1m \u001b[0m┃\u001b[1m \u001b[0m\u001b[1mOutput Shape          \u001b[0m\u001b[1m \u001b[0m┃\u001b[1m \u001b[0m\u001b[1m      Param #\u001b[0m\u001b[1m \u001b[0m┃\n",
       "┡━━━━━━━━━━━━━━━━━━━━━━━━━━━━━━━━━╇━━━━━━━━━━━━━━━━━━━━━━━━╇━━━━━━━━━━━━━━━┩\n",
       "│ reshape (\u001b[38;5;33mReshape\u001b[0m)               │ (\u001b[38;5;45mNone\u001b[0m, \u001b[38;5;34m2149\u001b[0m, \u001b[38;5;34m1\u001b[0m)        │             \u001b[38;5;34m0\u001b[0m │\n",
       "├─────────────────────────────────┼────────────────────────┼───────────────┤\n",
       "│ conv1d (\u001b[38;5;33mConv1D\u001b[0m)                 │ (\u001b[38;5;45mNone\u001b[0m, \u001b[38;5;34m2147\u001b[0m, \u001b[38;5;34m32\u001b[0m)       │           \u001b[38;5;34m128\u001b[0m │\n",
       "├─────────────────────────────────┼────────────────────────┼───────────────┤\n",
       "│ max_pooling1d (\u001b[38;5;33mMaxPooling1D\u001b[0m)    │ (\u001b[38;5;45mNone\u001b[0m, \u001b[38;5;34m1073\u001b[0m, \u001b[38;5;34m32\u001b[0m)       │             \u001b[38;5;34m0\u001b[0m │\n",
       "├─────────────────────────────────┼────────────────────────┼───────────────┤\n",
       "│ conv1d_1 (\u001b[38;5;33mConv1D\u001b[0m)               │ (\u001b[38;5;45mNone\u001b[0m, \u001b[38;5;34m1071\u001b[0m, \u001b[38;5;34m64\u001b[0m)       │         \u001b[38;5;34m6,208\u001b[0m │\n",
       "├─────────────────────────────────┼────────────────────────┼───────────────┤\n",
       "│ max_pooling1d_1 (\u001b[38;5;33mMaxPooling1D\u001b[0m)  │ (\u001b[38;5;45mNone\u001b[0m, \u001b[38;5;34m535\u001b[0m, \u001b[38;5;34m64\u001b[0m)        │             \u001b[38;5;34m0\u001b[0m │\n",
       "├─────────────────────────────────┼────────────────────────┼───────────────┤\n",
       "│ flatten (\u001b[38;5;33mFlatten\u001b[0m)               │ (\u001b[38;5;45mNone\u001b[0m, \u001b[38;5;34m34240\u001b[0m)          │             \u001b[38;5;34m0\u001b[0m │\n",
       "├─────────────────────────────────┼────────────────────────┼───────────────┤\n",
       "│ dense_3 (\u001b[38;5;33mDense\u001b[0m)                 │ (\u001b[38;5;45mNone\u001b[0m, \u001b[38;5;34m64\u001b[0m)             │     \u001b[38;5;34m2,191,424\u001b[0m │\n",
       "├─────────────────────────────────┼────────────────────────┼───────────────┤\n",
       "│ dropout_2 (\u001b[38;5;33mDropout\u001b[0m)             │ (\u001b[38;5;45mNone\u001b[0m, \u001b[38;5;34m64\u001b[0m)             │             \u001b[38;5;34m0\u001b[0m │\n",
       "├─────────────────────────────────┼────────────────────────┼───────────────┤\n",
       "│ dense_4 (\u001b[38;5;33mDense\u001b[0m)                 │ (\u001b[38;5;45mNone\u001b[0m, \u001b[38;5;34m1\u001b[0m)              │            \u001b[38;5;34m65\u001b[0m │\n",
       "└─────────────────────────────────┴────────────────────────┴───────────────┘\n"
      ]
     },
     "metadata": {},
     "output_type": "display_data"
    },
    {
     "data": {
      "text/html": [
       "<pre style=\"white-space:pre;overflow-x:auto;line-height:normal;font-family:Menlo,'DejaVu Sans Mono',consolas,'Courier New',monospace\"><span style=\"font-weight: bold\"> Total params: </span><span style=\"color: #00af00; text-decoration-color: #00af00\">2,197,825</span> (8.38 MB)\n",
       "</pre>\n"
      ],
      "text/plain": [
       "\u001b[1m Total params: \u001b[0m\u001b[38;5;34m2,197,825\u001b[0m (8.38 MB)\n"
      ]
     },
     "metadata": {},
     "output_type": "display_data"
    },
    {
     "data": {
      "text/html": [
       "<pre style=\"white-space:pre;overflow-x:auto;line-height:normal;font-family:Menlo,'DejaVu Sans Mono',consolas,'Courier New',monospace\"><span style=\"font-weight: bold\"> Trainable params: </span><span style=\"color: #00af00; text-decoration-color: #00af00\">2,197,825</span> (8.38 MB)\n",
       "</pre>\n"
      ],
      "text/plain": [
       "\u001b[1m Trainable params: \u001b[0m\u001b[38;5;34m2,197,825\u001b[0m (8.38 MB)\n"
      ]
     },
     "metadata": {},
     "output_type": "display_data"
    },
    {
     "data": {
      "text/html": [
       "<pre style=\"white-space:pre;overflow-x:auto;line-height:normal;font-family:Menlo,'DejaVu Sans Mono',consolas,'Courier New',monospace\"><span style=\"font-weight: bold\"> Non-trainable params: </span><span style=\"color: #00af00; text-decoration-color: #00af00\">0</span> (0.00 B)\n",
       "</pre>\n"
      ],
      "text/plain": [
       "\u001b[1m Non-trainable params: \u001b[0m\u001b[38;5;34m0\u001b[0m (0.00 B)\n"
      ]
     },
     "metadata": {},
     "output_type": "display_data"
    },
    {
     "name": "stdout",
     "output_type": "stream",
     "text": [
      "None\n",
      "Epoch 1/50\n",
      "\u001b[1m3420/3420\u001b[0m \u001b[32m━━━━━━━━━━━━━━━━━━━━\u001b[0m\u001b[37m\u001b[0m \u001b[1m87s\u001b[0m 25ms/step - loss: 3.1092 - mae: 1.3336 - val_loss: 2.0390 - val_mae: 1.0882\n",
      "Epoch 2/50\n",
      "\u001b[1m3420/3420\u001b[0m \u001b[32m━━━━━━━━━━━━━━━━━━━━\u001b[0m\u001b[37m\u001b[0m \u001b[1m89s\u001b[0m 26ms/step - loss: 2.3825 - mae: 1.1748 - val_loss: 1.9383 - val_mae: 1.0478\n",
      "Epoch 3/50\n",
      "\u001b[1m3420/3420\u001b[0m \u001b[32m━━━━━━━━━━━━━━━━━━━━\u001b[0m\u001b[37m\u001b[0m \u001b[1m90s\u001b[0m 26ms/step - loss: 2.2509 - mae: 1.1420 - val_loss: 1.9782 - val_mae: 1.0691\n",
      "Epoch 4/50\n",
      "\u001b[1m3420/3420\u001b[0m \u001b[32m━━━━━━━━━━━━━━━━━━━━\u001b[0m\u001b[37m\u001b[0m \u001b[1m89s\u001b[0m 26ms/step - loss: 2.2310 - mae: 1.1340 - val_loss: 1.9144 - val_mae: 1.0421\n",
      "Epoch 5/50\n",
      "\u001b[1m3420/3420\u001b[0m \u001b[32m━━━━━━━━━━━━━━━━━━━━\u001b[0m\u001b[37m\u001b[0m \u001b[1m90s\u001b[0m 26ms/step - loss: 2.2030 - mae: 1.1290 - val_loss: 1.8880 - val_mae: 1.0351\n",
      "Epoch 6/50\n",
      "\u001b[1m3420/3420\u001b[0m \u001b[32m━━━━━━━━━━━━━━━━━━━━\u001b[0m\u001b[37m\u001b[0m \u001b[1m91s\u001b[0m 27ms/step - loss: 2.1642 - mae: 1.1169 - val_loss: 1.9263 - val_mae: 1.0453\n",
      "Epoch 7/50\n",
      "\u001b[1m3420/3420\u001b[0m \u001b[32m━━━━━━━━━━━━━━━━━━━━\u001b[0m\u001b[37m\u001b[0m \u001b[1m92s\u001b[0m 27ms/step - loss: 2.1666 - mae: 1.1155 - val_loss: 1.8969 - val_mae: 1.0408\n",
      "Epoch 8/50\n",
      "\u001b[1m3420/3420\u001b[0m \u001b[32m━━━━━━━━━━━━━━━━━━━━\u001b[0m\u001b[37m\u001b[0m \u001b[1m92s\u001b[0m 27ms/step - loss: 2.1455 - mae: 1.1128 - val_loss: 1.8829 - val_mae: 1.0366\n",
      "Epoch 9/50\n",
      "\u001b[1m3420/3420\u001b[0m \u001b[32m━━━━━━━━━━━━━━━━━━━━\u001b[0m\u001b[37m\u001b[0m \u001b[1m90s\u001b[0m 26ms/step - loss: 2.1314 - mae: 1.1074 - val_loss: 1.8909 - val_mae: 1.0359\n",
      "Epoch 10/50\n",
      "\u001b[1m3420/3420\u001b[0m \u001b[32m━━━━━━━━━━━━━━━━━━━━\u001b[0m\u001b[37m\u001b[0m \u001b[1m92s\u001b[0m 27ms/step - loss: 2.1277 - mae: 1.1044 - val_loss: 1.9010 - val_mae: 1.0532\n",
      "Epoch 11/50\n",
      "\u001b[1m3420/3420\u001b[0m \u001b[32m━━━━━━━━━━━━━━━━━━━━\u001b[0m\u001b[37m\u001b[0m \u001b[1m94s\u001b[0m 28ms/step - loss: 2.1293 - mae: 1.1058 - val_loss: 1.8848 - val_mae: 1.0410\n",
      "Epoch 12/50\n",
      "\u001b[1m3420/3420\u001b[0m \u001b[32m━━━━━━━━━━━━━━━━━━━━\u001b[0m\u001b[37m\u001b[0m \u001b[1m93s\u001b[0m 27ms/step - loss: 2.1256 - mae: 1.1049 - val_loss: 1.8726 - val_mae: 1.0269\n",
      "Epoch 13/50\n",
      "\u001b[1m3420/3420\u001b[0m \u001b[32m━━━━━━━━━━━━━━━━━━━━\u001b[0m\u001b[37m\u001b[0m \u001b[1m94s\u001b[0m 27ms/step - loss: 2.1045 - mae: 1.0995 - val_loss: 1.8569 - val_mae: 1.0270\n",
      "Epoch 14/50\n",
      "\u001b[1m3420/3420\u001b[0m \u001b[32m━━━━━━━━━━━━━━━━━━━━\u001b[0m\u001b[37m\u001b[0m \u001b[1m93s\u001b[0m 27ms/step - loss: 2.1073 - mae: 1.0974 - val_loss: 1.8425 - val_mae: 1.0209\n",
      "Epoch 15/50\n",
      "\u001b[1m3420/3420\u001b[0m \u001b[32m━━━━━━━━━━━━━━━━━━━━\u001b[0m\u001b[37m\u001b[0m \u001b[1m93s\u001b[0m 27ms/step - loss: 2.1110 - mae: 1.1020 - val_loss: 1.8600 - val_mae: 1.0244\n",
      "Epoch 16/50\n",
      "\u001b[1m3420/3420\u001b[0m \u001b[32m━━━━━━━━━━━━━━━━━━━━\u001b[0m\u001b[37m\u001b[0m \u001b[1m94s\u001b[0m 27ms/step - loss: 2.0888 - mae: 1.0919 - val_loss: 1.8571 - val_mae: 1.0321\n",
      "Epoch 17/50\n",
      "\u001b[1m3420/3420\u001b[0m \u001b[32m━━━━━━━━━━━━━━━━━━━━\u001b[0m\u001b[37m\u001b[0m \u001b[1m92s\u001b[0m 27ms/step - loss: 2.0875 - mae: 1.0940 - val_loss: 1.8519 - val_mae: 1.0319\n",
      "Epoch 18/50\n",
      "\u001b[1m3420/3420\u001b[0m \u001b[32m━━━━━━━━━━━━━━━━━━━━\u001b[0m\u001b[37m\u001b[0m \u001b[1m92s\u001b[0m 27ms/step - loss: 2.1026 - mae: 1.0984 - val_loss: 1.8433 - val_mae: 1.0168\n",
      "Epoch 19/50\n",
      "\u001b[1m3420/3420\u001b[0m \u001b[32m━━━━━━━━━━━━━━━━━━━━\u001b[0m\u001b[37m\u001b[0m \u001b[1m93s\u001b[0m 27ms/step - loss: 2.0789 - mae: 1.0921 - val_loss: 1.8296 - val_mae: 1.0162\n",
      "Epoch 20/50\n",
      "\u001b[1m3420/3420\u001b[0m \u001b[32m━━━━━━━━━━━━━━━━━━━━\u001b[0m\u001b[37m\u001b[0m \u001b[1m93s\u001b[0m 27ms/step - loss: 2.0840 - mae: 1.0933 - val_loss: 1.8811 - val_mae: 1.0383\n",
      "Epoch 21/50\n",
      "\u001b[1m3420/3420\u001b[0m \u001b[32m━━━━━━━━━━━━━━━━━━━━\u001b[0m\u001b[37m\u001b[0m \u001b[1m95s\u001b[0m 28ms/step - loss: 2.0954 - mae: 1.0941 - val_loss: 1.8617 - val_mae: 1.0310\n",
      "Epoch 22/50\n",
      "\u001b[1m3420/3420\u001b[0m \u001b[32m━━━━━━━━━━━━━━━━━━━━\u001b[0m\u001b[37m\u001b[0m \u001b[1m94s\u001b[0m 28ms/step - loss: 2.0778 - mae: 1.0914 - val_loss: 1.8403 - val_mae: 1.0230\n",
      "Epoch 23/50\n",
      "\u001b[1m3420/3420\u001b[0m \u001b[32m━━━━━━━━━━━━━━━━━━━━\u001b[0m\u001b[37m\u001b[0m \u001b[1m96s\u001b[0m 28ms/step - loss: 2.0923 - mae: 1.0937 - val_loss: 1.8281 - val_mae: 1.0146\n",
      "Epoch 24/50\n",
      "\u001b[1m3420/3420\u001b[0m \u001b[32m━━━━━━━━━━━━━━━━━━━━\u001b[0m\u001b[37m\u001b[0m \u001b[1m94s\u001b[0m 27ms/step - loss: 2.0885 - mae: 1.0927 - val_loss: 1.8766 - val_mae: 1.0421\n",
      "Epoch 25/50\n",
      "\u001b[1m3420/3420\u001b[0m \u001b[32m━━━━━━━━━━━━━━━━━━━━\u001b[0m\u001b[37m\u001b[0m \u001b[1m94s\u001b[0m 27ms/step - loss: 2.0635 - mae: 1.0879 - val_loss: 1.8236 - val_mae: 1.0178\n",
      "Epoch 26/50\n",
      "\u001b[1m3420/3420\u001b[0m \u001b[32m━━━━━━━━━━━━━━━━━━━━\u001b[0m\u001b[37m\u001b[0m \u001b[1m94s\u001b[0m 28ms/step - loss: 2.0810 - mae: 1.0922 - val_loss: 1.8789 - val_mae: 1.0414\n",
      "Epoch 27/50\n",
      "\u001b[1m3420/3420\u001b[0m \u001b[32m━━━━━━━━━━━━━━━━━━━━\u001b[0m\u001b[37m\u001b[0m \u001b[1m96s\u001b[0m 28ms/step - loss: 2.0580 - mae: 1.0844 - val_loss: 1.8286 - val_mae: 1.0176\n",
      "Epoch 28/50\n",
      "\u001b[1m3420/3420\u001b[0m \u001b[32m━━━━━━━━━━━━━━━━━━━━\u001b[0m\u001b[37m\u001b[0m \u001b[1m97s\u001b[0m 28ms/step - loss: 2.0685 - mae: 1.0888 - val_loss: 1.8437 - val_mae: 1.0278\n",
      "Epoch 29/50\n",
      "\u001b[1m3420/3420\u001b[0m \u001b[32m━━━━━━━━━━━━━━━━━━━━\u001b[0m\u001b[37m\u001b[0m \u001b[1m95s\u001b[0m 28ms/step - loss: 2.0738 - mae: 1.0891 - val_loss: 1.8685 - val_mae: 1.0356\n",
      "Epoch 30/50\n",
      "\u001b[1m3420/3420\u001b[0m \u001b[32m━━━━━━━━━━━━━━━━━━━━\u001b[0m\u001b[37m\u001b[0m \u001b[1m95s\u001b[0m 28ms/step - loss: 2.0758 - mae: 1.0887 - val_loss: 1.8505 - val_mae: 1.0298\n",
      "Epoch 31/50\n",
      "\u001b[1m3420/3420\u001b[0m \u001b[32m━━━━━━━━━━━━━━━━━━━━\u001b[0m\u001b[37m\u001b[0m \u001b[1m95s\u001b[0m 28ms/step - loss: 2.0607 - mae: 1.0878 - val_loss: 1.8778 - val_mae: 1.0427\n",
      "Epoch 32/50\n",
      "\u001b[1m3420/3420\u001b[0m \u001b[32m━━━━━━━━━━━━━━━━━━━━\u001b[0m\u001b[37m\u001b[0m \u001b[1m95s\u001b[0m 28ms/step - loss: 2.0651 - mae: 1.0908 - val_loss: 1.8511 - val_mae: 1.0246\n",
      "Epoch 33/50\n",
      "\u001b[1m3420/3420\u001b[0m \u001b[32m━━━━━━━━━━━━━━━━━━━━\u001b[0m\u001b[37m\u001b[0m \u001b[1m95s\u001b[0m 28ms/step - loss: 2.0745 - mae: 1.0901 - val_loss: 1.8288 - val_mae: 1.0155\n",
      "Epoch 34/50\n",
      "\u001b[1m3420/3420\u001b[0m \u001b[32m━━━━━━━━━━━━━━━━━━━━\u001b[0m\u001b[37m\u001b[0m \u001b[1m96s\u001b[0m 28ms/step - loss: 2.0625 - mae: 1.0866 - val_loss: 1.8809 - val_mae: 1.0399\n",
      "Epoch 35/50\n",
      "\u001b[1m3420/3420\u001b[0m \u001b[32m━━━━━━━━━━━━━━━━━━━━\u001b[0m\u001b[37m\u001b[0m \u001b[1m94s\u001b[0m 28ms/step - loss: 2.0746 - mae: 1.0908 - val_loss: 1.8217 - val_mae: 1.0185\n",
      "Epoch 36/50\n",
      "\u001b[1m3420/3420\u001b[0m \u001b[32m━━━━━━━━━━━━━━━━━━━━\u001b[0m\u001b[37m\u001b[0m \u001b[1m95s\u001b[0m 28ms/step - loss: 2.0971 - mae: 1.0946 - val_loss: 1.8196 - val_mae: 1.0168\n",
      "Epoch 37/50\n",
      "\u001b[1m3420/3420\u001b[0m \u001b[32m━━━━━━━━━━━━━━━━━━━━\u001b[0m\u001b[37m\u001b[0m \u001b[1m95s\u001b[0m 28ms/step - loss: 2.0940 - mae: 1.0966 - val_loss: 1.8730 - val_mae: 1.0398\n",
      "Epoch 38/50\n",
      "\u001b[1m3420/3420\u001b[0m \u001b[32m━━━━━━━━━━━━━━━━━━━━\u001b[0m\u001b[37m\u001b[0m \u001b[1m95s\u001b[0m 28ms/step - loss: 2.0720 - mae: 1.0891 - val_loss: 1.8293 - val_mae: 1.0140\n",
      "Epoch 39/50\n",
      "\u001b[1m3420/3420\u001b[0m \u001b[32m━━━━━━━━━━━━━━━━━━━━\u001b[0m\u001b[37m\u001b[0m \u001b[1m96s\u001b[0m 28ms/step - loss: 2.0519 - mae: 1.0840 - val_loss: 1.8160 - val_mae: 1.0155\n",
      "Epoch 40/50\n",
      "\u001b[1m3420/3420\u001b[0m \u001b[32m━━━━━━━━━━━━━━━━━━━━\u001b[0m\u001b[37m\u001b[0m \u001b[1m96s\u001b[0m 28ms/step - loss: 2.0764 - mae: 1.0902 - val_loss: 1.8229 - val_mae: 1.0169\n",
      "Epoch 41/50\n",
      "\u001b[1m3420/3420\u001b[0m \u001b[32m━━━━━━━━━━━━━━━━━━━━\u001b[0m\u001b[37m\u001b[0m \u001b[1m94s\u001b[0m 28ms/step - loss: 2.0526 - mae: 1.0831 - val_loss: 1.8283 - val_mae: 1.0227\n",
      "Epoch 42/50\n",
      "\u001b[1m3420/3420\u001b[0m \u001b[32m━━━━━━━━━━━━━━━━━━━━\u001b[0m\u001b[37m\u001b[0m \u001b[1m96s\u001b[0m 28ms/step - loss: 2.0474 - mae: 1.0822 - val_loss: 1.8313 - val_mae: 1.0197\n",
      "Epoch 43/50\n",
      "\u001b[1m3420/3420\u001b[0m \u001b[32m━━━━━━━━━━━━━━━━━━━━\u001b[0m\u001b[37m\u001b[0m \u001b[1m97s\u001b[0m 28ms/step - loss: 2.0507 - mae: 1.0838 - val_loss: 1.8474 - val_mae: 1.0316\n",
      "Epoch 44/50\n",
      "\u001b[1m3420/3420\u001b[0m \u001b[32m━━━━━━━━━━━━━━━━━━━━\u001b[0m\u001b[37m\u001b[0m \u001b[1m96s\u001b[0m 28ms/step - loss: 2.0612 - mae: 1.0863 - val_loss: 1.8181 - val_mae: 1.0175\n",
      "Epoch 45/50\n",
      "\u001b[1m3420/3420\u001b[0m \u001b[32m━━━━━━━━━━━━━━━━━━━━\u001b[0m\u001b[37m\u001b[0m \u001b[1m95s\u001b[0m 28ms/step - loss: 2.0432 - mae: 1.0824 - val_loss: 1.8255 - val_mae: 1.0150\n",
      "Epoch 46/50\n",
      "\u001b[1m3420/3420\u001b[0m \u001b[32m━━━━━━━━━━━━━━━━━━━━\u001b[0m\u001b[37m\u001b[0m \u001b[1m95s\u001b[0m 28ms/step - loss: 2.0489 - mae: 1.0852 - val_loss: 1.8133 - val_mae: 1.0075\n",
      "Epoch 47/50\n",
      "\u001b[1m3420/3420\u001b[0m \u001b[32m━━━━━━━━━━━━━━━━━━━━\u001b[0m\u001b[37m\u001b[0m \u001b[1m95s\u001b[0m 28ms/step - loss: 2.0699 - mae: 1.0844 - val_loss: 1.8312 - val_mae: 1.0197\n",
      "Epoch 48/50\n",
      "\u001b[1m3420/3420\u001b[0m \u001b[32m━━━━━━━━━━━━━━━━━━━━\u001b[0m\u001b[37m\u001b[0m \u001b[1m104s\u001b[0m 31ms/step - loss: 2.0465 - mae: 1.0805 - val_loss: 1.8068 - val_mae: 1.0098\n",
      "Epoch 49/50\n",
      "\u001b[1m3420/3420\u001b[0m \u001b[32m━━━━━━━━━━━━━━━━━━━━\u001b[0m\u001b[37m\u001b[0m \u001b[1m102s\u001b[0m 30ms/step - loss: 2.0415 - mae: 1.0805 - val_loss: 1.8200 - val_mae: 1.0188\n",
      "Epoch 50/50\n",
      "\u001b[1m3420/3420\u001b[0m \u001b[32m━━━━━━━━━━━━━━━━━━━━\u001b[0m\u001b[37m\u001b[0m \u001b[1m100s\u001b[0m 29ms/step - loss: 2.0343 - mae: 1.0793 - val_loss: 1.8250 - val_mae: 1.0170\n"
     ]
    }
   ],
   "source": [
    "input_shape_cnn = (X_train.shape[1],)\n",
    "cnn_model = create_cnn(input_shape_cnn)\n",
    "cnn_history = cnn_model.fit(\n",
    "    X_train, y_train,\n",
    "    validation_split=0.2,\n",
    "    epochs=50,\n",
    "    batch_size=32,\n",
    "    verbose=1\n",
    ")"
   ]
  },
  {
   "cell_type": "code",
   "execution_count": 45,
   "metadata": {},
   "outputs": [
    {
     "name": "stdout",
     "output_type": "stream",
     "text": [
      "CNN Mean Absolute Error (MAE) no conjunto de teste: 1.0122\n"
     ]
    }
   ],
   "source": [
    "cnn_eval = cnn_model.evaluate(X_test, y_test, verbose=0)\n",
    "print(f\"CNN Mean Absolute Error (MAE) no conjunto de teste: {cnn_eval[1]:.4f}\")"
   ]
  },
  {
   "cell_type": "markdown",
   "metadata": {},
   "source": [
    "The CNN model evaluation shows that it achieves a low MAE of 1.0122 on the test set, demonstrating strong predictive performance. The descriptive statistics of the target variable indicate a mean of approximately 2.0095, with a standard deviation of 2.7165, and a range spanning from -9.9334 to 12.3591. The relative MAE of 4.54% confirms that the prediction error is small compared to the variability in the target variable. These results suggest that the model effectively captures the underlying patterns in the data and provides reliable predictions, making it suitable for biological applications such as modeling drug efficacy or predicting cellular responses."
   ]
  },
  {
   "cell_type": "code",
   "execution_count": 47,
   "metadata": {},
   "outputs": [
    {
     "name": "stdout",
     "output_type": "stream",
     "text": [
      "MAE relativo ao intervalo de Y: 4.54%\n"
     ]
    }
   ],
   "source": [
    "mae_relative = cnn_eval[1] / (np.max(target_data) - np.min(target_data))\n",
    "print(f\"MAE relativo ao intervalo de Y: {mae_relative:.2%}\")\n"
   ]
  },
  {
   "cell_type": "code",
   "execution_count": 49,
   "metadata": {},
   "outputs": [
    {
     "name": "stderr",
     "output_type": "stream",
     "text": [
      "WARNING:absl:You are saving your model as an HDF5 file via `model.save()` or `keras.saving.save_model(model)`. This file format is considered legacy. We recommend using instead the native Keras format, e.g. `model.save('my_model.keras')` or `keras.saving.save_model(model, 'my_model.keras')`. \n",
      "WARNING:absl:You are saving your model as an HDF5 file via `model.save()` or `keras.saving.save_model(model)`. This file format is considered legacy. We recommend using instead the native Keras format, e.g. `model.save('my_model.keras')` or `keras.saving.save_model(model, 'my_model.keras')`. \n"
     ]
    },
    {
     "name": "stdout",
     "output_type": "stream",
     "text": [
      "Modelo DNN salvo como 'trained_dnn_model.h5'.\n",
      "Modelo CNN salvo como 'trained_cnn_model.h5'.\n"
     ]
    }
   ],
   "source": [
    "# 6. Salvar os modelos treinados\n",
    "dnn_model.save('trained_dnn_model.h5')\n",
    "print(\"Modelo DNN salvo como 'trained_dnn_model.h5'.\")\n",
    "\n",
    "cnn_model.save('trained_cnn_model.h5')\n",
    "print(\"Modelo CNN salvo como 'trained_cnn_model.h5'.\")"
   ]
  },
  {
   "cell_type": "markdown",
   "metadata": {},
   "source": []
  }
 ],
 "metadata": {
  "kernelspec": {
   "display_name": "ml4chemoinf",
   "language": "python",
   "name": "python3"
  },
  "language_info": {
   "codemirror_mode": {
    "name": "ipython",
    "version": 3
   },
   "file_extension": ".py",
   "mimetype": "text/x-python",
   "name": "python",
   "nbconvert_exporter": "python",
   "pygments_lexer": "ipython3",
   "version": "3.12.8"
  }
 },
 "nbformat": 4,
 "nbformat_minor": 2
}
